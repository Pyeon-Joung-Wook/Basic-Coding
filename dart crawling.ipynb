{
 "cells": [
  {
   "cell_type": "code",
   "execution_count": 4,
   "metadata": {},
   "outputs": [],
   "source": [
    "import pandas as pd\n",
    "from bs4 import BeautifulSoup\n",
    "import requests\n",
    "import json\n",
    "from pandas.io.json import json_normalize\n",
    "from selenium import webdriver\n",
    "import time"
   ]
  },
  {
   "cell_type": "markdown",
   "metadata": {},
   "source": [
    "# 기업코드 가져오기"
   ]
  },
  {
   "cell_type": "code",
   "execution_count": 12,
   "metadata": {},
   "outputs": [],
   "source": [
    "def show_me_the_corp_code(days = 5):\n",
    "    driver = webdriver.Chrome(\"C:/Users/elris/Downloads/chromedriver_win32 (1)/chromedriver.exe\")\n",
    "    url = 'https://dart.fss.or.kr/dsac001/mainY.do#'\n",
    "    driver.get(url)\n",
    "    ls = []\n",
    "    \n",
    "    for j in range(2,days+1): \n",
    "        driver.find_element_by_css_selector('#date > p > a:nth-child({})'.format(j)).click()            \n",
    "        time.sleep(1)\n",
    "        for _ in range(2):\n",
    "            for i in range(1,101):\n",
    "                try : \n",
    "                    driver.execute_script('window.scrollTo(10,{});'.format(i*100))\n",
    "                    driver.find_element_by_css_selector('#listContents > div.table_list > table > tbody > tr:nth-child({}) > td:nth-child(2) > span > a'.format(i)).click()\n",
    "                    time.sleep(1)\n",
    "                    ls.append(driver.find_element_by_css_selector('#pop_body > div > table > tbody > tr:nth-child(4) > td').text)\n",
    "                    time.sleep(1)\n",
    "                    driver.find_element_by_css_selector('#ext-gen48').click()\n",
    "                except : pass\n",
    "            try :\n",
    "                driver.find_element_by_css_selector('#listContents > div.page_list > input[type=\"button\"]:nth-child(4)').click()\n",
    "            except : pass\n",
    "\n",
    "    driver.find_element_by_css_selector('#date > p > a:nth-child(1)').click()\n",
    "    for i in range(101):\n",
    "        try : \n",
    "            driver.execute_script('window.scrollTo(10,{});'.format(i*100))\n",
    "            driver.find_element_by_css_selector('#listContents > div.table_list > table > tbody > tr:nth-child({}) > td:nth-child(2) > span > a'.format(i)).click()\n",
    "            time.sleep(1)\n",
    "            ls.append(driver.find_element_by_css_selector('#pop_body > div > table > tbody > tr:nth-child(4) > td').text)\n",
    "            time.sleep(1)\n",
    "            driver.find_element_by_css_selector('#ext-gen48').click()\n",
    "        except : pass\n",
    "\n",
    "    driver.close()\n",
    "    return ls"
   ]
  },
  {
   "cell_type": "code",
   "execution_count": 13,
   "metadata": {},
   "outputs": [
    {
     "name": "stdout",
     "output_type": "stream",
     "text": [
      "Wall time: 6min 6s\n"
     ]
    }
   ],
   "source": [
    "%time code_ls = show_me_the_corp_code(2)"
   ]
  },
  {
   "cell_type": "code",
   "execution_count": 14,
   "metadata": {},
   "outputs": [
    {
     "data": {
      "text/plain": [
       "153"
      ]
     },
     "execution_count": 14,
     "metadata": {},
     "output_type": "execute_result"
    }
   ],
   "source": [
    "len(code_ls)"
   ]
  },
  {
   "cell_type": "code",
   "execution_count": 15,
   "metadata": {},
   "outputs": [
    {
     "data": {
      "text/plain": [
       "61"
      ]
     },
     "execution_count": 15,
     "metadata": {},
     "output_type": "execute_result"
    }
   ],
   "source": [
    "code_ls_new = list(set(code_ls))\n",
    "code_ls_new = [i for i in code_ls_new if i is not '']\n",
    "len(code_ls_new)"
   ]
  },
  {
   "cell_type": "code",
   "execution_count": 16,
   "metadata": {},
   "outputs": [],
   "source": [
    "import pandas as pd\n",
    "df = pd.DataFrame(data=code_ls_new,columns=['code'])\n",
    "df.to_csv('corp_code.csv',index=False)"
   ]
  },
  {
   "cell_type": "code",
   "execution_count": 17,
   "metadata": {},
   "outputs": [],
   "source": [
    "code_df = pd.read_csv('corp_code.csv')\n",
    "code_list = list(code_df['code'])"
   ]
  },
  {
   "cell_type": "code",
   "execution_count": 18,
   "metadata": {},
   "outputs": [],
   "source": [
    "code_list = [str(code) for code in code_list]"
   ]
  },
  {
   "cell_type": "code",
   "execution_count": 19,
   "metadata": {},
   "outputs": [],
   "source": [
    "code_list = ['0'*(6-len(code))+code for code in code_list if len(code) != 6]"
   ]
  },
  {
   "cell_type": "code",
   "execution_count": 20,
   "metadata": {},
   "outputs": [
    {
     "data": {
      "text/plain": [
       "['030610',\n",
       " '003070',\n",
       " '002020',\n",
       " '009540',\n",
       " '008560',\n",
       " '003470',\n",
       " '016610',\n",
       " '006800',\n",
       " '001510',\n",
       " '005940']"
      ]
     },
     "execution_count": 20,
     "metadata": {},
     "output_type": "execute_result"
    }
   ],
   "source": [
    "code_list[0:10]"
   ]
  },
  {
   "cell_type": "markdown",
   "metadata": {},
   "source": [
    "# 여기서 부터는 실행이 안됌(어떤 형식인지 모르겠음)"
   ]
  },
  {
   "cell_type": "code",
   "execution_count": 21,
   "metadata": {},
   "outputs": [],
   "source": [
    "# 회사의 전체 사업+반기+분기보고서 100건\n",
    "url_tmpl = 'http://dart.fss.or.kr/api/search.json?auth={auth}&crp_cd={code}&start_dt=19990101&bsn_tp=A001&bsn_tp=A002&bsn_tp=A003&page_set={page}'\n",
    "auth = '7929e9e6b73745a684d56abb329dd353b9c4a5bd'\n",
    "for i,code in enumerate(code_list):\n",
    "    page = '100'\n",
    "    url = url_tmpl.format(auth=auth,code=code,page=page)\n",
    "    r = requests.get(url)\n",
    "    jo = json.loads(r.text)\n",
    "    globals()['result'+str(i)] = json_normalize(jo, 'list')"
   ]
  },
  {
   "cell_type": "code",
   "execution_count": 22,
   "metadata": {},
   "outputs": [
    {
     "ename": "NameError",
     "evalue": "name 'result' is not defined",
     "output_type": "error",
     "traceback": [
      "\u001b[1;31m---------------------------------------------------------------------------\u001b[0m",
      "\u001b[1;31mNameError\u001b[0m                                 Traceback (most recent call last)",
      "\u001b[1;32m<ipython-input-22-a0af00698b4e>\u001b[0m in \u001b[0;36m<module>\u001b[1;34m\u001b[0m\n\u001b[1;32m----> 1\u001b[1;33m \u001b[0mdf\u001b[0m \u001b[1;33m=\u001b[0m \u001b[0mresult\u001b[0m\u001b[1;33m[\u001b[0m\u001b[1;33m:\u001b[0m\u001b[1;33m]\u001b[0m\u001b[1;33m\u001b[0m\u001b[1;33m\u001b[0m\u001b[0m\n\u001b[0m\u001b[0;32m      2\u001b[0m \u001b[1;32mfor\u001b[0m \u001b[0mix\u001b[0m\u001b[1;33m,\u001b[0m \u001b[0mrow\u001b[0m \u001b[1;32min\u001b[0m \u001b[0mdf\u001b[0m\u001b[1;33m.\u001b[0m\u001b[0miterrows\u001b[0m\u001b[1;33m(\u001b[0m\u001b[1;33m)\u001b[0m\u001b[1;33m:\u001b[0m\u001b[1;33m\u001b[0m\u001b[1;33m\u001b[0m\u001b[0m\n\u001b[0;32m      3\u001b[0m     \u001b[0murl_tmpl\u001b[0m \u001b[1;33m=\u001b[0m \u001b[1;34m\"http://dart.fss.or.kr/dsaf001/main.do?rcpNo={}\"\u001b[0m\u001b[1;33m\u001b[0m\u001b[1;33m\u001b[0m\u001b[0m\n\u001b[0;32m      4\u001b[0m     \u001b[0murl\u001b[0m \u001b[1;33m=\u001b[0m \u001b[0murl_tmpl\u001b[0m\u001b[1;33m.\u001b[0m\u001b[0mformat\u001b[0m\u001b[1;33m(\u001b[0m\u001b[0mrow\u001b[0m\u001b[1;33m[\u001b[0m\u001b[1;34m'rcp_no'\u001b[0m\u001b[1;33m]\u001b[0m\u001b[1;33m)\u001b[0m\u001b[1;33m\u001b[0m\u001b[1;33m\u001b[0m\u001b[0m\n\u001b[0;32m      5\u001b[0m     \u001b[0mprint\u001b[0m \u001b[1;33m(\u001b[0m\u001b[0mix\u001b[0m\u001b[1;33m,\u001b[0m \u001b[0murl\u001b[0m\u001b[1;33m)\u001b[0m\u001b[1;33m\u001b[0m\u001b[1;33m\u001b[0m\u001b[0m\n",
      "\u001b[1;31mNameError\u001b[0m: name 'result' is not defined"
     ]
    }
   ],
   "source": [
    "df = result[:] \n",
    "for ix, row in df.iterrows():\n",
    "    url_tmpl = \"http://dart.fss.or.kr/dsaf001/main.do?rcpNo={}\"\n",
    "    url = url_tmpl.format(row['rcp_no'])\n",
    "    print (ix, url)"
   ]
  },
  {
   "cell_type": "code",
   "execution_count": 23,
   "metadata": {},
   "outputs": [
    {
     "ename": "NameError",
     "evalue": "name 'result' is not defined",
     "output_type": "error",
     "traceback": [
      "\u001b[1;31m---------------------------------------------------------------------------\u001b[0m",
      "\u001b[1;31mNameError\u001b[0m                                 Traceback (most recent call last)",
      "\u001b[1;32m<ipython-input-23-8e6fc448e1f1>\u001b[0m in \u001b[0;36m<module>\u001b[1;34m\u001b[0m\n\u001b[1;32m----> 1\u001b[1;33m \u001b[0mindustrial_ls\u001b[0m \u001b[1;33m=\u001b[0m \u001b[1;33m[\u001b[0m\u001b[0mresult\u001b[0m\u001b[1;33m[\u001b[0m\u001b[1;34m'rcp_no'\u001b[0m\u001b[1;33m]\u001b[0m\u001b[1;33m[\u001b[0m\u001b[0mi\u001b[0m\u001b[1;33m]\u001b[0m \u001b[1;32mfor\u001b[0m \u001b[0mi\u001b[0m \u001b[1;32min\u001b[0m \u001b[0mrange\u001b[0m\u001b[1;33m(\u001b[0m\u001b[0mlen\u001b[0m\u001b[1;33m(\u001b[0m\u001b[0mresult\u001b[0m\u001b[1;33m)\u001b[0m\u001b[1;33m)\u001b[0m \u001b[1;32mif\u001b[0m \u001b[0mint\u001b[0m\u001b[1;33m(\u001b[0m\u001b[0mresult\u001b[0m\u001b[1;33m[\u001b[0m\u001b[1;34m'rcp_no'\u001b[0m\u001b[1;33m]\u001b[0m\u001b[1;33m[\u001b[0m\u001b[0mi\u001b[0m\u001b[1;33m]\u001b[0m\u001b[1;33m[\u001b[0m\u001b[1;36m5\u001b[0m\u001b[1;33m]\u001b[0m\u001b[1;33m)\u001b[0m\u001b[1;33m%\u001b[0m\u001b[1;36m3\u001b[0m \u001b[1;33m==\u001b[0m \u001b[1;36m0\u001b[0m\u001b[1;33m]\u001b[0m\u001b[1;33m\u001b[0m\u001b[1;33m\u001b[0m\u001b[0m\n\u001b[0m",
      "\u001b[1;31mNameError\u001b[0m: name 'result' is not defined"
     ]
    }
   ],
   "source": [
    "industrial_ls = [result['rcp_no'][i] for i in range(len(result)) if int(result['rcp_no'][i][5])%3 == 0]"
   ]
  },
  {
   "cell_type": "code",
   "execution_count": 24,
   "metadata": {},
   "outputs": [
    {
     "ename": "NameError",
     "evalue": "name 'industrial_ls' is not defined",
     "output_type": "error",
     "traceback": [
      "\u001b[1;31m---------------------------------------------------------------------------\u001b[0m",
      "\u001b[1;31mNameError\u001b[0m                                 Traceback (most recent call last)",
      "\u001b[1;32m<ipython-input-24-7572b27eaa1a>\u001b[0m in \u001b[0;36m<module>\u001b[1;34m\u001b[0m\n\u001b[0;32m      1\u001b[0m \u001b[0mindustrial_url\u001b[0m \u001b[1;33m=\u001b[0m \u001b[1;33m[\u001b[0m\u001b[1;33m]\u001b[0m\u001b[1;33m\u001b[0m\u001b[1;33m\u001b[0m\u001b[0m\n\u001b[1;32m----> 2\u001b[1;33m \u001b[1;32mfor\u001b[0m \u001b[0mnum\u001b[0m \u001b[1;32min\u001b[0m \u001b[0mindustrial_ls\u001b[0m\u001b[1;33m:\u001b[0m\u001b[1;33m\u001b[0m\u001b[1;33m\u001b[0m\u001b[0m\n\u001b[0m\u001b[0;32m      3\u001b[0m     \u001b[0murl_tmpl\u001b[0m \u001b[1;33m=\u001b[0m \u001b[1;34m\"http://dart.fss.or.kr/dsaf001/main.do?rcpNo={}\"\u001b[0m\u001b[1;33m\u001b[0m\u001b[1;33m\u001b[0m\u001b[0m\n\u001b[0;32m      4\u001b[0m     \u001b[0murl\u001b[0m \u001b[1;33m=\u001b[0m \u001b[0murl_tmpl\u001b[0m\u001b[1;33m.\u001b[0m\u001b[0mformat\u001b[0m\u001b[1;33m(\u001b[0m\u001b[0mnum\u001b[0m\u001b[1;33m)\u001b[0m\u001b[1;33m\u001b[0m\u001b[1;33m\u001b[0m\u001b[0m\n\u001b[0;32m      5\u001b[0m     \u001b[0mindustrial_url\u001b[0m\u001b[1;33m.\u001b[0m\u001b[0mappend\u001b[0m\u001b[1;33m(\u001b[0m\u001b[0murl\u001b[0m\u001b[1;33m)\u001b[0m\u001b[1;33m\u001b[0m\u001b[1;33m\u001b[0m\u001b[0m\n",
      "\u001b[1;31mNameError\u001b[0m: name 'industrial_ls' is not defined"
     ]
    }
   ],
   "source": [
    "industrial_url = []\n",
    "for num in industrial_ls:\n",
    "    url_tmpl = \"http://dart.fss.or.kr/dsaf001/main.do?rcpNo={}\"\n",
    "    url = url_tmpl.format(num)\n",
    "    industrial_url.append(url)\n",
    "industrial_url"
   ]
  },
  {
   "cell_type": "markdown",
   "metadata": {},
   "source": [
    "# url"
   ]
  },
  {
   "cell_type": "code",
   "execution_count": 25,
   "metadata": {},
   "outputs": [],
   "source": [
    "target_url = 'http://dart.fss.or.kr/report/viewer.do?'\n",
    "params = {\n",
    "    'rcpNo': 20170331002299,\n",
    "    'dcmNo': 5530161,\n",
    "    'eleId' : 19,\n",
    "    'offset' : 13730,\n",
    "    'length' : 78093,\n",
    "    'dtd' : 'dart3.xsd'\n",
    "}"
   ]
  },
  {
   "cell_type": "code",
   "execution_count": 26,
   "metadata": {},
   "outputs": [
    {
     "data": {
      "text/plain": [
       "<Response [200]>"
      ]
     },
     "execution_count": 26,
     "metadata": {},
     "output_type": "execute_result"
    }
   ],
   "source": [
    "resp = requests.get(target_url, params=params)\n",
    "resp"
   ]
  },
  {
   "cell_type": "code",
   "execution_count": 27,
   "metadata": {},
   "outputs": [
    {
     "data": {
      "text/plain": [
       "{'execute': 'true', 'Date': 'Sun, 08 Dec 2019 15:26:40 GMT', 'X-XSS-Protection': '1; mode=block', 'Expires': '0', 'Set-Cookie': 'WMONID=5Ivl9IS3jK6; Expires=Tue, 08-Dec-2020 24:26:40 GMT; Path=/, JSESSIONID=ogXAjQi2kFnFMvWAOLTKNwOrwAd8tU1NLzyvmSxLA4BlcyaPyUBpnJdqCwlHYvVM.ZG1fZGFydC9kYXJ0MV9kYXJ0X21zMw==; Path=/; HttpOnly', 'Connection': 'keep-alive', 'Content-Type': 'text/html; charset=utf-8', 'X-Content-Type-Options': 'nosniff', 'Pragma': 'no-cache', 'Cache-Control': 'no-cache, no-store, max-age=0, must-revalidate', 'Transfer-Encoding': 'chunked'}"
      ]
     },
     "execution_count": 27,
     "metadata": {},
     "output_type": "execute_result"
    }
   ],
   "source": [
    "resp.headers"
   ]
  },
  {
   "cell_type": "code",
   "execution_count": 28,
   "metadata": {},
   "outputs": [
    {
     "data": {
      "text/plain": [
       "'http://dart.fss.or.kr/report/viewer.do?rcpNo=20170331002299&dcmNo=5530161&eleId=19&offset=13730&length=78093&dtd=dart3.xsd'"
      ]
     },
     "execution_count": 28,
     "metadata": {},
     "output_type": "execute_result"
    }
   ],
   "source": [
    "resp.url\n",
    "# rcpNo = 날짜+기업코드(6자리) 형식\n",
    "# dcmNo = ???\n",
    "# eleId = 19 / offset = 1373 / length = 78093 / dtd = dart3.xsd (고정)\n",
    "# 다른 기업 예시\n",
    "# http://dart.fss.or.kr/report/viewer.do?rcpNo=20191202000384&dcmNo=6980773&eleId=18&offset=456065&length=15185&dtd=dart3.xsd\n",
    "#offset과 length는 0만 아니면 동일하게 실행됨"
   ]
  }
 ],
 "metadata": {
  "kernelspec": {
   "display_name": "Python 3",
   "language": "python",
   "name": "python3"
  },
  "language_info": {
   "codemirror_mode": {
    "name": "ipython",
    "version": 3
   },
   "file_extension": ".py",
   "mimetype": "text/x-python",
   "name": "python",
   "nbconvert_exporter": "python",
   "pygments_lexer": "ipython3",
   "version": "3.7.3"
  }
 },
 "nbformat": 4,
 "nbformat_minor": 2
}
