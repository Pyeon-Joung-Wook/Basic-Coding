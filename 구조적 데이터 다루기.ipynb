{
 "cells": [
  {
   "cell_type": "code",
   "execution_count": 1,
   "metadata": {},
   "outputs": [],
   "source": [
    "#판다스 라이브러리 임포트\n",
    "import pandas as pd"
   ]
  },
  {
   "cell_type": "markdown",
   "metadata": {},
   "source": [
    "# Series 생성"
   ]
  },
  {
   "cell_type": "code",
   "execution_count": 2,
   "metadata": {},
   "outputs": [
    {
     "data": {
      "text/plain": [
       "0    10\n",
       "1    20\n",
       "2    30\n",
       "3    40\n",
       "4    50\n",
       "dtype: int64"
      ]
     },
     "execution_count": 2,
     "metadata": {},
     "output_type": "execute_result"
    }
   ],
   "source": [
    "s1 = pd.Series([10, 20, 30, 40, 50])\n",
    "s1"
   ]
  },
  {
   "cell_type": "code",
   "execution_count": 3,
   "metadata": {},
   "outputs": [
    {
     "data": {
      "text/plain": [
       "RangeIndex(start=0, stop=5, step=1)"
      ]
     },
     "execution_count": 3,
     "metadata": {},
     "output_type": "execute_result"
    }
   ],
   "source": [
    "s1.index"
   ]
  },
  {
   "cell_type": "code",
   "execution_count": 4,
   "metadata": {},
   "outputs": [
    {
     "data": {
      "text/plain": [
       "array([10, 20, 30, 40, 50], dtype=int64)"
      ]
     },
     "execution_count": 4,
     "metadata": {},
     "output_type": "execute_result"
    }
   ],
   "source": [
    "s1.values"
   ]
  },
  {
   "cell_type": "code",
   "execution_count": 5,
   "metadata": {},
   "outputs": [],
   "source": [
    "s2 = pd.Series(['a', 'b', 'c', 1, 2, 3])"
   ]
  },
  {
   "cell_type": "code",
   "execution_count": 6,
   "metadata": {},
   "outputs": [],
   "source": [
    "import numpy as np"
   ]
  },
  {
   "cell_type": "code",
   "execution_count": 7,
   "metadata": {},
   "outputs": [
    {
     "data": {
      "text/plain": [
       "A    200.0\n",
       "B    195.0\n",
       "C      NaN\n",
       "D    205.0\n",
       "dtype: float64"
      ]
     },
     "execution_count": 7,
     "metadata": {},
     "output_type": "execute_result"
    }
   ],
   "source": [
    "index_1 = ['A', 'B', 'C', 'D']\n",
    "s4 = pd.Series([200, 195, np.nan, 205], index = index_1)\n",
    "s4"
   ]
  },
  {
   "cell_type": "code",
   "execution_count": 8,
   "metadata": {},
   "outputs": [
    {
     "data": {
      "text/plain": [
       "2019-4-18    200.0\n",
       "2019-4-19    195.0\n",
       "2019-4-20      NaN\n",
       "2019-4-21    205.0\n",
       "dtype: float64"
      ]
     },
     "execution_count": 8,
     "metadata": {},
     "output_type": "execute_result"
    }
   ],
   "source": [
    "index_date = ['2019-4-18', '2019-4-19', '2019-4-20', '2019-4-21']\n",
    "s4 = pd.Series([200, 195, np.nan, 205], index = index_date)\n",
    "s4"
   ]
  },
  {
   "cell_type": "code",
   "execution_count": 9,
   "metadata": {},
   "outputs": [
    {
     "data": {
      "text/plain": [
       "국어    100\n",
       "영어     95\n",
       "수학     90\n",
       "dtype: int64"
      ]
     },
     "execution_count": 9,
     "metadata": {},
     "output_type": "execute_result"
    }
   ],
   "source": [
    "s5 = pd.Series({'국어' : 100, '영어' : 95, '수학' : 90})\n",
    "s5"
   ]
  },
  {
   "cell_type": "code",
   "execution_count": 10,
   "metadata": {},
   "outputs": [
    {
     "data": {
      "text/plain": [
       "California        NaN\n",
       "Ohio          35000.0\n",
       "Texas         71000.0\n",
       "Oregon        16000.0\n",
       "Utah           5000.0\n",
       "dtype: float64"
      ]
     },
     "execution_count": 10,
     "metadata": {},
     "output_type": "execute_result"
    }
   ],
   "source": [
    "Quiz = pd.Series({'California' : np.nan, 'Ohio' : 35000, 'Texas' : 71000, 'Oregon' : 16000, 'Utah' : 5000})\n",
    "Quiz"
   ]
  },
  {
   "cell_type": "code",
   "execution_count": 11,
   "metadata": {},
   "outputs": [
    {
     "data": {
      "text/plain": [
       "Ohio      35000\n",
       "Texas     71000\n",
       "Oregon    16000\n",
       "Utah       5000\n",
       "dtype: int64"
      ]
     },
     "execution_count": 11,
     "metadata": {},
     "output_type": "execute_result"
    }
   ],
   "source": [
    "import pandas as pd\n",
    "obj = pd.Series({'Ohio' : 35000, 'Texas' : 71000, 'Oregon' : 16000, 'Utah' : 5000})\n",
    "obj"
   ]
  },
  {
   "cell_type": "markdown",
   "metadata": {},
   "source": [
    "# DataFrame 생성"
   ]
  },
  {
   "cell_type": "code",
   "execution_count": 12,
   "metadata": {},
   "outputs": [
    {
     "data": {
      "text/html": [
       "<div>\n",
       "<style scoped>\n",
       "    .dataframe tbody tr th:only-of-type {\n",
       "        vertical-align: middle;\n",
       "    }\n",
       "\n",
       "    .dataframe tbody tr th {\n",
       "        vertical-align: top;\n",
       "    }\n",
       "\n",
       "    .dataframe thead th {\n",
       "        text-align: right;\n",
       "    }\n",
       "</style>\n",
       "<table border=\"1\" class=\"dataframe\">\n",
       "  <thead>\n",
       "    <tr style=\"text-align: right;\">\n",
       "      <th></th>\n",
       "      <th>0</th>\n",
       "      <th>1</th>\n",
       "      <th>2</th>\n",
       "    </tr>\n",
       "  </thead>\n",
       "  <tbody>\n",
       "    <tr>\n",
       "      <th>0</th>\n",
       "      <td>1</td>\n",
       "      <td>2</td>\n",
       "      <td>3</td>\n",
       "    </tr>\n",
       "    <tr>\n",
       "      <th>1</th>\n",
       "      <td>4</td>\n",
       "      <td>5</td>\n",
       "      <td>6</td>\n",
       "    </tr>\n",
       "    <tr>\n",
       "      <th>2</th>\n",
       "      <td>7</td>\n",
       "      <td>8</td>\n",
       "      <td>9</td>\n",
       "    </tr>\n",
       "  </tbody>\n",
       "</table>\n",
       "</div>"
      ],
      "text/plain": [
       "   0  1  2\n",
       "0  1  2  3\n",
       "1  4  5  6\n",
       "2  7  8  9"
      ]
     },
     "execution_count": 12,
     "metadata": {},
     "output_type": "execute_result"
    }
   ],
   "source": [
    "pd.DataFrame([[1,2,3],[4,5,6],[7,8,9]])"
   ]
  },
  {
   "cell_type": "code",
   "execution_count": 13,
   "metadata": {},
   "outputs": [
    {
     "data": {
      "text/plain": [
       "array([[10, 20, 30],\n",
       "       [40, 50, 60],\n",
       "       [70, 80, 90]])"
      ]
     },
     "execution_count": 13,
     "metadata": {},
     "output_type": "execute_result"
    }
   ],
   "source": [
    "data_list = np.array([[10,20,30],[40,50,60],[70,80,90]])\n",
    "data_list"
   ]
  },
  {
   "cell_type": "code",
   "execution_count": 14,
   "metadata": {},
   "outputs": [
    {
     "data": {
      "text/html": [
       "<div>\n",
       "<style scoped>\n",
       "    .dataframe tbody tr th:only-of-type {\n",
       "        vertical-align: middle;\n",
       "    }\n",
       "\n",
       "    .dataframe tbody tr th {\n",
       "        vertical-align: top;\n",
       "    }\n",
       "\n",
       "    .dataframe thead th {\n",
       "        text-align: right;\n",
       "    }\n",
       "</style>\n",
       "<table border=\"1\" class=\"dataframe\">\n",
       "  <thead>\n",
       "    <tr style=\"text-align: right;\">\n",
       "      <th></th>\n",
       "      <th>0</th>\n",
       "      <th>1</th>\n",
       "      <th>2</th>\n",
       "    </tr>\n",
       "  </thead>\n",
       "  <tbody>\n",
       "    <tr>\n",
       "      <th>0</th>\n",
       "      <td>10</td>\n",
       "      <td>20</td>\n",
       "      <td>30</td>\n",
       "    </tr>\n",
       "    <tr>\n",
       "      <th>1</th>\n",
       "      <td>40</td>\n",
       "      <td>50</td>\n",
       "      <td>60</td>\n",
       "    </tr>\n",
       "    <tr>\n",
       "      <th>2</th>\n",
       "      <td>70</td>\n",
       "      <td>80</td>\n",
       "      <td>90</td>\n",
       "    </tr>\n",
       "  </tbody>\n",
       "</table>\n",
       "</div>"
      ],
      "text/plain": [
       "    0   1   2\n",
       "0  10  20  30\n",
       "1  40  50  60\n",
       "2  70  80  90"
      ]
     },
     "execution_count": 14,
     "metadata": {},
     "output_type": "execute_result"
    }
   ],
   "source": [
    "pd.DataFrame(data_list)"
   ]
  },
  {
   "cell_type": "code",
   "execution_count": 15,
   "metadata": {},
   "outputs": [
    {
     "data": {
      "text/html": [
       "<div>\n",
       "<style scoped>\n",
       "    .dataframe tbody tr th:only-of-type {\n",
       "        vertical-align: middle;\n",
       "    }\n",
       "\n",
       "    .dataframe tbody tr th {\n",
       "        vertical-align: top;\n",
       "    }\n",
       "\n",
       "    .dataframe thead th {\n",
       "        text-align: right;\n",
       "    }\n",
       "</style>\n",
       "<table border=\"1\" class=\"dataframe\">\n",
       "  <thead>\n",
       "    <tr style=\"text-align: right;\">\n",
       "      <th></th>\n",
       "      <th>A</th>\n",
       "      <th>B</th>\n",
       "      <th>C</th>\n",
       "    </tr>\n",
       "  </thead>\n",
       "  <tbody>\n",
       "    <tr>\n",
       "      <th>2019-09-01</th>\n",
       "      <td>1</td>\n",
       "      <td>2</td>\n",
       "      <td>3</td>\n",
       "    </tr>\n",
       "    <tr>\n",
       "      <th>2019-09-02</th>\n",
       "      <td>4</td>\n",
       "      <td>5</td>\n",
       "      <td>6</td>\n",
       "    </tr>\n",
       "    <tr>\n",
       "      <th>2019-09-03</th>\n",
       "      <td>7</td>\n",
       "      <td>8</td>\n",
       "      <td>9</td>\n",
       "    </tr>\n",
       "    <tr>\n",
       "      <th>2019-09-04</th>\n",
       "      <td>10</td>\n",
       "      <td>11</td>\n",
       "      <td>12</td>\n",
       "    </tr>\n",
       "  </tbody>\n",
       "</table>\n",
       "</div>"
      ],
      "text/plain": [
       "             A   B   C\n",
       "2019-09-01   1   2   3\n",
       "2019-09-02   4   5   6\n",
       "2019-09-03   7   8   9\n",
       "2019-09-04  10  11  12"
      ]
     },
     "execution_count": 15,
     "metadata": {},
     "output_type": "execute_result"
    }
   ],
   "source": [
    "data = np.array([[1,2,3],[4,5,6],[7,8,9],[10,11,12]])\n",
    "index_date = pd.date_range('2019-09-01', periods=4)\n",
    "columns_list = ['A', 'B', 'C']\n",
    "pd.DataFrame(data, index = index_date, columns = columns_list)"
   ]
  },
  {
   "cell_type": "code",
   "execution_count": 16,
   "metadata": {},
   "outputs": [
    {
     "data": {
      "text/html": [
       "<div>\n",
       "<style scoped>\n",
       "    .dataframe tbody tr th:only-of-type {\n",
       "        vertical-align: middle;\n",
       "    }\n",
       "\n",
       "    .dataframe tbody tr th {\n",
       "        vertical-align: top;\n",
       "    }\n",
       "\n",
       "    .dataframe thead th {\n",
       "        text-align: right;\n",
       "    }\n",
       "</style>\n",
       "<table border=\"1\" class=\"dataframe\">\n",
       "  <thead>\n",
       "    <tr style=\"text-align: right;\">\n",
       "      <th></th>\n",
       "      <th>연도</th>\n",
       "      <th>지사</th>\n",
       "      <th>고객 수</th>\n",
       "    </tr>\n",
       "  </thead>\n",
       "  <tbody>\n",
       "    <tr>\n",
       "      <th>0</th>\n",
       "      <td>2015</td>\n",
       "      <td>한국</td>\n",
       "      <td>200</td>\n",
       "    </tr>\n",
       "    <tr>\n",
       "      <th>1</th>\n",
       "      <td>2016</td>\n",
       "      <td>한국</td>\n",
       "      <td>250</td>\n",
       "    </tr>\n",
       "    <tr>\n",
       "      <th>2</th>\n",
       "      <td>2016</td>\n",
       "      <td>미국</td>\n",
       "      <td>450</td>\n",
       "    </tr>\n",
       "    <tr>\n",
       "      <th>3</th>\n",
       "      <td>2017</td>\n",
       "      <td>한국</td>\n",
       "      <td>300</td>\n",
       "    </tr>\n",
       "    <tr>\n",
       "      <th>4</th>\n",
       "      <td>2017</td>\n",
       "      <td>미국</td>\n",
       "      <td>500</td>\n",
       "    </tr>\n",
       "  </tbody>\n",
       "</table>\n",
       "</div>"
      ],
      "text/plain": [
       "     연도  지사  고객 수\n",
       "0  2015  한국   200\n",
       "1  2016  한국   250\n",
       "2  2016  미국   450\n",
       "3  2017  한국   300\n",
       "4  2017  미국   500"
      ]
     },
     "execution_count": 16,
     "metadata": {},
     "output_type": "execute_result"
    }
   ],
   "source": [
    "table_data = {'연도' : [2015, 2016, 2016, 2017, 2017],\n",
    "             '지사' : ['한국','한국','미국','한국','미국'],\n",
    "              '고객 수' : [200, 250, 450, 300, 500]\n",
    "             }\n",
    "pd.DataFrame(table_data)"
   ]
  },
  {
   "cell_type": "code",
   "execution_count": 17,
   "metadata": {},
   "outputs": [
    {
     "data": {
      "text/html": [
       "<div>\n",
       "<style scoped>\n",
       "    .dataframe tbody tr th:only-of-type {\n",
       "        vertical-align: middle;\n",
       "    }\n",
       "\n",
       "    .dataframe tbody tr th {\n",
       "        vertical-align: top;\n",
       "    }\n",
       "\n",
       "    .dataframe thead th {\n",
       "        text-align: right;\n",
       "    }\n",
       "</style>\n",
       "<table border=\"1\" class=\"dataframe\">\n",
       "  <thead>\n",
       "    <tr style=\"text-align: right;\">\n",
       "      <th></th>\n",
       "      <th>지사</th>\n",
       "      <th>연도</th>\n",
       "      <th>고객 수</th>\n",
       "    </tr>\n",
       "  </thead>\n",
       "  <tbody>\n",
       "    <tr>\n",
       "      <th>0</th>\n",
       "      <td>한국</td>\n",
       "      <td>2015</td>\n",
       "      <td>200</td>\n",
       "    </tr>\n",
       "    <tr>\n",
       "      <th>1</th>\n",
       "      <td>한국</td>\n",
       "      <td>2016</td>\n",
       "      <td>250</td>\n",
       "    </tr>\n",
       "    <tr>\n",
       "      <th>2</th>\n",
       "      <td>미국</td>\n",
       "      <td>2016</td>\n",
       "      <td>450</td>\n",
       "    </tr>\n",
       "    <tr>\n",
       "      <th>3</th>\n",
       "      <td>한국</td>\n",
       "      <td>2017</td>\n",
       "      <td>300</td>\n",
       "    </tr>\n",
       "    <tr>\n",
       "      <th>4</th>\n",
       "      <td>미국</td>\n",
       "      <td>2017</td>\n",
       "      <td>500</td>\n",
       "    </tr>\n",
       "  </tbody>\n",
       "</table>\n",
       "</div>"
      ],
      "text/plain": [
       "   지사    연도  고객 수\n",
       "0  한국  2015   200\n",
       "1  한국  2016   250\n",
       "2  미국  2016   450\n",
       "3  한국  2017   300\n",
       "4  미국  2017   500"
      ]
     },
     "execution_count": 17,
     "metadata": {},
     "output_type": "execute_result"
    }
   ],
   "source": [
    "df = pd.DataFrame(table_data, columns = ['지사', '연도', '고객 수'])\n",
    "df"
   ]
  },
  {
   "cell_type": "code",
   "execution_count": 18,
   "metadata": {},
   "outputs": [
    {
     "data": {
      "text/plain": [
       "RangeIndex(start=0, stop=5, step=1)"
      ]
     },
     "execution_count": 18,
     "metadata": {},
     "output_type": "execute_result"
    }
   ],
   "source": [
    "df.index"
   ]
  },
  {
   "cell_type": "code",
   "execution_count": 19,
   "metadata": {},
   "outputs": [
    {
     "data": {
      "text/plain": [
       "Index(['지사', '연도', '고객 수'], dtype='object')"
      ]
     },
     "execution_count": 19,
     "metadata": {},
     "output_type": "execute_result"
    }
   ],
   "source": [
    "df.columns"
   ]
  },
  {
   "cell_type": "code",
   "execution_count": 20,
   "metadata": {},
   "outputs": [
    {
     "data": {
      "text/plain": [
       "array([['한국', 2015, 200],\n",
       "       ['한국', 2016, 250],\n",
       "       ['미국', 2016, 450],\n",
       "       ['한국', 2017, 300],\n",
       "       ['미국', 2017, 500]], dtype=object)"
      ]
     },
     "execution_count": 20,
     "metadata": {},
     "output_type": "execute_result"
    }
   ],
   "source": [
    "df.values"
   ]
  },
  {
   "cell_type": "code",
   "execution_count": 21,
   "metadata": {},
   "outputs": [],
   "source": [
    "index_date = pd.date_range('2019-09-01', periods=6)"
   ]
  },
  {
   "cell_type": "code",
   "execution_count": 22,
   "metadata": {},
   "outputs": [
    {
     "data": {
      "text/html": [
       "<div>\n",
       "<style scoped>\n",
       "    .dataframe tbody tr th:only-of-type {\n",
       "        vertical-align: middle;\n",
       "    }\n",
       "\n",
       "    .dataframe tbody tr th {\n",
       "        vertical-align: top;\n",
       "    }\n",
       "\n",
       "    .dataframe thead th {\n",
       "        text-align: right;\n",
       "    }\n",
       "</style>\n",
       "<table border=\"1\" class=\"dataframe\">\n",
       "  <thead>\n",
       "    <tr style=\"text-align: right;\">\n",
       "      <th></th>\n",
       "      <th>A</th>\n",
       "      <th>B</th>\n",
       "      <th>C</th>\n",
       "      <th>D</th>\n",
       "    </tr>\n",
       "  </thead>\n",
       "  <tbody>\n",
       "    <tr>\n",
       "      <th>2019-09-01</th>\n",
       "      <td>0.061751</td>\n",
       "      <td>0.671089</td>\n",
       "      <td>0.142657</td>\n",
       "      <td>0.502646</td>\n",
       "    </tr>\n",
       "    <tr>\n",
       "      <th>2019-09-02</th>\n",
       "      <td>0.471725</td>\n",
       "      <td>0.123895</td>\n",
       "      <td>0.979878</td>\n",
       "      <td>0.232288</td>\n",
       "    </tr>\n",
       "    <tr>\n",
       "      <th>2019-09-03</th>\n",
       "      <td>0.571245</td>\n",
       "      <td>0.150903</td>\n",
       "      <td>0.653952</td>\n",
       "      <td>0.485941</td>\n",
       "    </tr>\n",
       "    <tr>\n",
       "      <th>2019-09-04</th>\n",
       "      <td>0.365221</td>\n",
       "      <td>0.676683</td>\n",
       "      <td>0.035766</td>\n",
       "      <td>0.718859</td>\n",
       "    </tr>\n",
       "    <tr>\n",
       "      <th>2019-09-05</th>\n",
       "      <td>0.545001</td>\n",
       "      <td>0.440874</td>\n",
       "      <td>0.845636</td>\n",
       "      <td>0.087954</td>\n",
       "    </tr>\n",
       "    <tr>\n",
       "      <th>2019-09-06</th>\n",
       "      <td>0.336088</td>\n",
       "      <td>0.627047</td>\n",
       "      <td>0.103722</td>\n",
       "      <td>0.763863</td>\n",
       "    </tr>\n",
       "  </tbody>\n",
       "</table>\n",
       "</div>"
      ],
      "text/plain": [
       "                   A         B         C         D\n",
       "2019-09-01  0.061751  0.671089  0.142657  0.502646\n",
       "2019-09-02  0.471725  0.123895  0.979878  0.232288\n",
       "2019-09-03  0.571245  0.150903  0.653952  0.485941\n",
       "2019-09-04  0.365221  0.676683  0.035766  0.718859\n",
       "2019-09-05  0.545001  0.440874  0.845636  0.087954\n",
       "2019-09-06  0.336088  0.627047  0.103722  0.763863"
      ]
     },
     "execution_count": 22,
     "metadata": {},
     "output_type": "execute_result"
    }
   ],
   "source": [
    "# np.random.rand(a,b) : 0과 1사이의 난수를 a x b의 2차원 배열로 생성\n",
    "Quiz_df = pd.DataFrame(np.random.rand(6,4), index = index_date, columns = list('ABCD'))\n",
    "Quiz_df"
   ]
  },
  {
   "cell_type": "code",
   "execution_count": 23,
   "metadata": {},
   "outputs": [
    {
     "data": {
      "text/plain": [
       "{'year': [2000, 2001, 2002, 2001, 2002],\n",
       " 'state': ['Ohio', 'Ohio', 'Ohio', 'Nevada', 'Nevada'],\n",
       " 'pop': [1.5, 1.7, 3.6, 2.4, 2.9]}"
      ]
     },
     "execution_count": 23,
     "metadata": {},
     "output_type": "execute_result"
    }
   ],
   "source": [
    "df_index = ['one', 'two', 'three', 'four', 'five']\n",
    "df_columns = ['year', 'state', 'pop']\n",
    "Quiz_dic = {'year' : [2000, 2001, 2002, 2001, 2002],\n",
    "          'state' : ['Ohio', 'Ohio', 'Ohio', 'Nevada', 'Nevada'],\n",
    "           'pop' : [1.5,1.7,3.6,2.4,2.9]\n",
    "          }\n",
    "Quiz_dic"
   ]
  },
  {
   "cell_type": "code",
   "execution_count": 24,
   "metadata": {},
   "outputs": [
    {
     "data": {
      "text/html": [
       "<div>\n",
       "<style scoped>\n",
       "    .dataframe tbody tr th:only-of-type {\n",
       "        vertical-align: middle;\n",
       "    }\n",
       "\n",
       "    .dataframe tbody tr th {\n",
       "        vertical-align: top;\n",
       "    }\n",
       "\n",
       "    .dataframe thead th {\n",
       "        text-align: right;\n",
       "    }\n",
       "</style>\n",
       "<table border=\"1\" class=\"dataframe\">\n",
       "  <thead>\n",
       "    <tr style=\"text-align: right;\">\n",
       "      <th></th>\n",
       "      <th>year</th>\n",
       "      <th>state</th>\n",
       "      <th>pop</th>\n",
       "    </tr>\n",
       "  </thead>\n",
       "  <tbody>\n",
       "    <tr>\n",
       "      <th>one</th>\n",
       "      <td>2000</td>\n",
       "      <td>Ohio</td>\n",
       "      <td>1.5</td>\n",
       "    </tr>\n",
       "    <tr>\n",
       "      <th>two</th>\n",
       "      <td>2001</td>\n",
       "      <td>Ohio</td>\n",
       "      <td>1.7</td>\n",
       "    </tr>\n",
       "    <tr>\n",
       "      <th>three</th>\n",
       "      <td>2002</td>\n",
       "      <td>Ohio</td>\n",
       "      <td>3.6</td>\n",
       "    </tr>\n",
       "    <tr>\n",
       "      <th>four</th>\n",
       "      <td>2001</td>\n",
       "      <td>Nevada</td>\n",
       "      <td>2.4</td>\n",
       "    </tr>\n",
       "    <tr>\n",
       "      <th>five</th>\n",
       "      <td>2002</td>\n",
       "      <td>Nevada</td>\n",
       "      <td>2.9</td>\n",
       "    </tr>\n",
       "  </tbody>\n",
       "</table>\n",
       "</div>"
      ],
      "text/plain": [
       "       year   state  pop\n",
       "one    2000    Ohio  1.5\n",
       "two    2001    Ohio  1.7\n",
       "three  2002    Ohio  3.6\n",
       "four   2001  Nevada  2.4\n",
       "five   2002  Nevada  2.9"
      ]
     },
     "execution_count": 24,
     "metadata": {},
     "output_type": "execute_result"
    }
   ],
   "source": [
    "from pandas import Series, DataFrame\n",
    "# import를 직접적으로 해주면 pd.DataFrame가 아닌 DataFrame만 해주어도 됌\n",
    "\n",
    "frame = DataFrame(Quiz_dic, index = df_index,columns=df_columns)\n",
    "frame"
   ]
  },
  {
   "cell_type": "code",
   "execution_count": 25,
   "metadata": {},
   "outputs": [],
   "source": [
    "# DataFrame_data.mean([axis = 0 or 1])\n",
    "# 평균 axis = 0 열 방향, axisme_data.std([axis = 0 or 1])\n",
    "# 표준편차 axis = 0 열 방향, axisme_data.std([axis = 0 or 1])\n",
    "# DataFrame_data.head([n])\n",
    "# 처음 n개의 행 데이터 반환 (위에서 부터)\n",
    "# DataFrame_data.tail\n",
    "# 마지막 n개의 행 데이터 반환 (밑에서 부터)\n",
    "# DataFrame_data.[a : b] \n",
    "# a부터 b까지의 연속된 구간의 행 데이터 선택\n",
    "# DataFrame_data.loc['index_name']\n",
    "# index 항목 이름을 찾아 그에 해당되는 행 선택\n",
    "# DataFrame_data['column_name']\n",
    "# column 항목 이름을 찾아 그에 해당되는 행 선택 ※컬럼은 loc 메소드가 필요없다.\n",
    "# DataFrame_data.T\n",
    "# 데이터프레임의 행과 열을 전치시는 메소드"
   ]
  },
  {
   "cell_type": "markdown",
   "metadata": {},
   "source": [
    "# Series 데이터 연산"
   ]
  },
  {
   "cell_type": "code",
   "execution_count": 26,
   "metadata": {},
   "outputs": [
    {
     "data": {
      "text/plain": [
       "0    11\n",
       "1    22\n",
       "2    33\n",
       "3    44\n",
       "4    55\n",
       "dtype: int64"
      ]
     },
     "execution_count": 26,
     "metadata": {},
     "output_type": "execute_result"
    }
   ],
   "source": [
    "s1 = pd.Series([1,2,3,4,5])\n",
    "s2 = pd.Series([10,20,30,40,50])\n",
    "s2 + s1"
   ]
  },
  {
   "cell_type": "code",
   "execution_count": 27,
   "metadata": {},
   "outputs": [
    {
     "data": {
      "text/plain": [
       "0     9\n",
       "1    18\n",
       "2    27\n",
       "3    36\n",
       "4    45\n",
       "dtype: int64"
      ]
     },
     "execution_count": 27,
     "metadata": {},
     "output_type": "execute_result"
    }
   ],
   "source": [
    "s2 - s1"
   ]
  },
  {
   "cell_type": "code",
   "execution_count": 28,
   "metadata": {},
   "outputs": [
    {
     "data": {
      "text/plain": [
       "0     10\n",
       "1     40\n",
       "2     90\n",
       "3    160\n",
       "4    250\n",
       "dtype: int64"
      ]
     },
     "execution_count": 28,
     "metadata": {},
     "output_type": "execute_result"
    }
   ],
   "source": [
    "s2 * s1"
   ]
  },
  {
   "cell_type": "code",
   "execution_count": 29,
   "metadata": {},
   "outputs": [
    {
     "data": {
      "text/plain": [
       "0    10.0\n",
       "1    10.0\n",
       "2    10.0\n",
       "3    10.0\n",
       "4    10.0\n",
       "dtype: float64"
      ]
     },
     "execution_count": 29,
     "metadata": {},
     "output_type": "execute_result"
    }
   ],
   "source": [
    "s2 / s1"
   ]
  },
  {
   "cell_type": "markdown",
   "metadata": {},
   "source": [
    "# 데이터 프레임 연산"
   ]
  },
  {
   "cell_type": "code",
   "execution_count": 30,
   "metadata": {},
   "outputs": [
    {
     "data": {
      "text/html": [
       "<div>\n",
       "<style scoped>\n",
       "    .dataframe tbody tr th:only-of-type {\n",
       "        vertical-align: middle;\n",
       "    }\n",
       "\n",
       "    .dataframe tbody tr th {\n",
       "        vertical-align: top;\n",
       "    }\n",
       "\n",
       "    .dataframe thead th {\n",
       "        text-align: right;\n",
       "    }\n",
       "</style>\n",
       "<table border=\"1\" class=\"dataframe\">\n",
       "  <thead>\n",
       "    <tr style=\"text-align: right;\">\n",
       "      <th></th>\n",
       "      <th>봄</th>\n",
       "      <th>여름</th>\n",
       "      <th>가을</th>\n",
       "      <th>겨울</th>\n",
       "    </tr>\n",
       "  </thead>\n",
       "  <tbody>\n",
       "    <tr>\n",
       "      <th>2012</th>\n",
       "      <td>200.1</td>\n",
       "      <td>700.1</td>\n",
       "      <td>300.1</td>\n",
       "      <td>100.1</td>\n",
       "    </tr>\n",
       "    <tr>\n",
       "      <th>2013</th>\n",
       "      <td>200.2</td>\n",
       "      <td>700.2</td>\n",
       "      <td>300.2</td>\n",
       "      <td>100.2</td>\n",
       "    </tr>\n",
       "    <tr>\n",
       "      <th>2014</th>\n",
       "      <td>200.3</td>\n",
       "      <td>700.3</td>\n",
       "      <td>300.3</td>\n",
       "      <td>100.3</td>\n",
       "    </tr>\n",
       "    <tr>\n",
       "      <th>2015</th>\n",
       "      <td>200.4</td>\n",
       "      <td>700.4</td>\n",
       "      <td>300.4</td>\n",
       "      <td>100.4</td>\n",
       "    </tr>\n",
       "    <tr>\n",
       "      <th>2016</th>\n",
       "      <td>200.5</td>\n",
       "      <td>700.5</td>\n",
       "      <td>300.5</td>\n",
       "      <td>100.5</td>\n",
       "    </tr>\n",
       "  </tbody>\n",
       "</table>\n",
       "</div>"
      ],
      "text/plain": [
       "          봄     여름     가을     겨울\n",
       "2012  200.1  700.1  300.1  100.1\n",
       "2013  200.2  700.2  300.2  100.2\n",
       "2014  200.3  700.3  300.3  100.3\n",
       "2015  200.4  700.4  300.4  100.4\n",
       "2016  200.5  700.5  300.5  100.5"
      ]
     },
     "execution_count": 30,
     "metadata": {},
     "output_type": "execute_result"
    }
   ],
   "source": [
    "table_data3 = {'봄': [200.1, 200.2, 200.3, 200.4, 200.5], \n",
    "               '여름': [700.1, 700.2, 700.3, 700.4, 700.5],\n",
    "               '가을': [300.1, 300.2, 300.3, 300.4, 300.5], \n",
    "               '겨울': [100.1, 100.2, 100.3, 100.4, 100.5]}\n",
    "index_list = ['2012', '2013', '2014', '2015', '2016']\n",
    "df3 = pd.DataFrame(table_data3, index = index_list)\n",
    "df3 "
   ]
  },
  {
   "cell_type": "code",
   "execution_count": 31,
   "metadata": {},
   "outputs": [
    {
     "data": {
      "text/html": [
       "<div>\n",
       "<style scoped>\n",
       "    .dataframe tbody tr th:only-of-type {\n",
       "        vertical-align: middle;\n",
       "    }\n",
       "\n",
       "    .dataframe tbody tr th {\n",
       "        vertical-align: top;\n",
       "    }\n",
       "\n",
       "    .dataframe thead th {\n",
       "        text-align: right;\n",
       "    }\n",
       "</style>\n",
       "<table border=\"1\" class=\"dataframe\">\n",
       "  <thead>\n",
       "    <tr style=\"text-align: right;\">\n",
       "      <th></th>\n",
       "      <th>계절별 평균</th>\n",
       "    </tr>\n",
       "  </thead>\n",
       "  <tbody>\n",
       "    <tr>\n",
       "      <th>봄</th>\n",
       "      <td>200.3</td>\n",
       "    </tr>\n",
       "    <tr>\n",
       "      <th>여름</th>\n",
       "      <td>700.3</td>\n",
       "    </tr>\n",
       "    <tr>\n",
       "      <th>가을</th>\n",
       "      <td>300.3</td>\n",
       "    </tr>\n",
       "    <tr>\n",
       "      <th>겨울</th>\n",
       "      <td>100.3</td>\n",
       "    </tr>\n",
       "  </tbody>\n",
       "</table>\n",
       "</div>"
      ],
      "text/plain": [
       "    계절별 평균\n",
       "봄    200.3\n",
       "여름   700.3\n",
       "가을   300.3\n",
       "겨울   100.3"
      ]
     },
     "execution_count": 31,
     "metadata": {},
     "output_type": "execute_result"
    }
   ],
   "source": [
    "pd.DataFrame(df3.mean(), columns=['계절별 평균'])"
   ]
  },
  {
   "cell_type": "code",
   "execution_count": 32,
   "metadata": {},
   "outputs": [
    {
     "data": {
      "text/html": [
       "<div>\n",
       "<style scoped>\n",
       "    .dataframe tbody tr th:only-of-type {\n",
       "        vertical-align: middle;\n",
       "    }\n",
       "\n",
       "    .dataframe tbody tr th {\n",
       "        vertical-align: top;\n",
       "    }\n",
       "\n",
       "    .dataframe thead th {\n",
       "        text-align: right;\n",
       "    }\n",
       "</style>\n",
       "<table border=\"1\" class=\"dataframe\">\n",
       "  <thead>\n",
       "    <tr style=\"text-align: right;\">\n",
       "      <th></th>\n",
       "      <th>년도별 표준편차</th>\n",
       "    </tr>\n",
       "  </thead>\n",
       "  <tbody>\n",
       "    <tr>\n",
       "      <th>2012</th>\n",
       "      <td>262.995564</td>\n",
       "    </tr>\n",
       "    <tr>\n",
       "      <th>2013</th>\n",
       "      <td>262.995564</td>\n",
       "    </tr>\n",
       "    <tr>\n",
       "      <th>2014</th>\n",
       "      <td>262.995564</td>\n",
       "    </tr>\n",
       "    <tr>\n",
       "      <th>2015</th>\n",
       "      <td>262.995564</td>\n",
       "    </tr>\n",
       "    <tr>\n",
       "      <th>2016</th>\n",
       "      <td>262.995564</td>\n",
       "    </tr>\n",
       "  </tbody>\n",
       "</table>\n",
       "</div>"
      ],
      "text/plain": [
       "        년도별 표준편차\n",
       "2012  262.995564\n",
       "2013  262.995564\n",
       "2014  262.995564\n",
       "2015  262.995564\n",
       "2016  262.995564"
      ]
     },
     "execution_count": 32,
     "metadata": {},
     "output_type": "execute_result"
    }
   ],
   "source": [
    "pd.DataFrame(df3.std(axis=1), columns=['년도별 표준편차'])"
   ]
  },
  {
   "cell_type": "code",
   "execution_count": 33,
   "metadata": {},
   "outputs": [
    {
     "data": {
      "text/html": [
       "<div>\n",
       "<style scoped>\n",
       "    .dataframe tbody tr th:only-of-type {\n",
       "        vertical-align: middle;\n",
       "    }\n",
       "\n",
       "    .dataframe tbody tr th {\n",
       "        vertical-align: top;\n",
       "    }\n",
       "\n",
       "    .dataframe thead th {\n",
       "        text-align: right;\n",
       "    }\n",
       "</style>\n",
       "<table border=\"1\" class=\"dataframe\">\n",
       "  <thead>\n",
       "    <tr style=\"text-align: right;\">\n",
       "      <th></th>\n",
       "      <th>경부선 KTX</th>\n",
       "      <th>호남선 KTX</th>\n",
       "      <th>경전선 KTX</th>\n",
       "      <th>전라선 KTX</th>\n",
       "      <th>동해선 KTX</th>\n",
       "    </tr>\n",
       "  </thead>\n",
       "  <tbody>\n",
       "    <tr>\n",
       "      <th>2011</th>\n",
       "      <td>30000</td>\n",
       "      <td>7000</td>\n",
       "      <td>3000</td>\n",
       "      <td>300</td>\n",
       "      <td>NaN</td>\n",
       "    </tr>\n",
       "    <tr>\n",
       "      <th>2012</th>\n",
       "      <td>30000</td>\n",
       "      <td>6000</td>\n",
       "      <td>4000</td>\n",
       "      <td>1000</td>\n",
       "      <td>NaN</td>\n",
       "    </tr>\n",
       "    <tr>\n",
       "      <th>2013</th>\n",
       "      <td>40000</td>\n",
       "      <td>6000</td>\n",
       "      <td>4000</td>\n",
       "      <td>1000</td>\n",
       "      <td>NaN</td>\n",
       "    </tr>\n",
       "    <tr>\n",
       "      <th>2014</th>\n",
       "      <td>40000</td>\n",
       "      <td>6000</td>\n",
       "      <td>4000</td>\n",
       "      <td>2000</td>\n",
       "      <td>NaN</td>\n",
       "    </tr>\n",
       "    <tr>\n",
       "      <th>2015</th>\n",
       "      <td>40000</td>\n",
       "      <td>8000</td>\n",
       "      <td>4000</td>\n",
       "      <td>3000</td>\n",
       "      <td>2000.0</td>\n",
       "    </tr>\n",
       "    <tr>\n",
       "      <th>2016</th>\n",
       "      <td>40000</td>\n",
       "      <td>10000</td>\n",
       "      <td>4000</td>\n",
       "      <td>3000</td>\n",
       "      <td>3000.0</td>\n",
       "    </tr>\n",
       "    <tr>\n",
       "      <th>2017</th>\n",
       "      <td>30000</td>\n",
       "      <td>9000</td>\n",
       "      <td>5000</td>\n",
       "      <td>5000</td>\n",
       "      <td>6000.0</td>\n",
       "    </tr>\n",
       "  </tbody>\n",
       "</table>\n",
       "</div>"
      ],
      "text/plain": [
       "      경부선 KTX  호남선 KTX  경전선 KTX  전라선 KTX  동해선 KTX\n",
       "2011    30000     7000     3000      300      NaN\n",
       "2012    30000     6000     4000     1000      NaN\n",
       "2013    40000     6000     4000     1000      NaN\n",
       "2014    40000     6000     4000     2000      NaN\n",
       "2015    40000     8000     4000     3000   2000.0\n",
       "2016    40000    10000     4000     3000   3000.0\n",
       "2017    30000     9000     5000     5000   6000.0"
      ]
     },
     "execution_count": 33,
     "metadata": {},
     "output_type": "execute_result"
    }
   ],
   "source": [
    "KTX_index = [2011, 2012, 2013, 2014, 2015, 2016, 2017]\n",
    "KTX_columns = ['경부선 KTX', '호남선 KTX', '경전선 KTX', '전라선 KTX', '동해선 KTX'] \n",
    "KTX_data = {'경부선 KTX' : [30000, 30000, 40000, 40000, 40000, 40000, 30000],\n",
    "                       '호남선 KTX' : [7000, 6000, 6000, 6000, 8000, 10000, 9000],\n",
    "                       '경전선 KTX' : [3000, 4000, 4000, 4000, 4000, 4000, 5000],\n",
    "                       '전라선 KTX' : [300, 1000, 1000, 2000, 3000, 3000, 5000],\n",
    "                       '동해선 KTX' : [np.nan, np.nan, np.nan, np.nan, 2000, 3000, 6000]}\n",
    "KTX_df = pd.DataFrame(KTX_data, index = KTX_index, columns = KTX_columns)\n",
    "KTX_df"
   ]
  },
  {
   "cell_type": "code",
   "execution_count": 34,
   "metadata": {},
   "outputs": [
    {
     "data": {
      "text/html": [
       "<div>\n",
       "<style scoped>\n",
       "    .dataframe tbody tr th:only-of-type {\n",
       "        vertical-align: middle;\n",
       "    }\n",
       "\n",
       "    .dataframe tbody tr th {\n",
       "        vertical-align: top;\n",
       "    }\n",
       "\n",
       "    .dataframe thead th {\n",
       "        text-align: right;\n",
       "    }\n",
       "</style>\n",
       "<table border=\"1\" class=\"dataframe\">\n",
       "  <thead>\n",
       "    <tr style=\"text-align: right;\">\n",
       "      <th></th>\n",
       "      <th>경부선 KTX</th>\n",
       "      <th>호남선 KTX</th>\n",
       "      <th>경전선 KTX</th>\n",
       "      <th>전라선 KTX</th>\n",
       "      <th>동해선 KTX</th>\n",
       "    </tr>\n",
       "  </thead>\n",
       "  <tbody>\n",
       "    <tr>\n",
       "      <th>2011</th>\n",
       "      <td>30000</td>\n",
       "      <td>7000</td>\n",
       "      <td>3000</td>\n",
       "      <td>300</td>\n",
       "      <td>NaN</td>\n",
       "    </tr>\n",
       "    <tr>\n",
       "      <th>2012</th>\n",
       "      <td>30000</td>\n",
       "      <td>6000</td>\n",
       "      <td>4000</td>\n",
       "      <td>1000</td>\n",
       "      <td>NaN</td>\n",
       "    </tr>\n",
       "    <tr>\n",
       "      <th>2013</th>\n",
       "      <td>40000</td>\n",
       "      <td>6000</td>\n",
       "      <td>4000</td>\n",
       "      <td>1000</td>\n",
       "      <td>NaN</td>\n",
       "    </tr>\n",
       "    <tr>\n",
       "      <th>2014</th>\n",
       "      <td>40000</td>\n",
       "      <td>6000</td>\n",
       "      <td>4000</td>\n",
       "      <td>2000</td>\n",
       "      <td>NaN</td>\n",
       "    </tr>\n",
       "    <tr>\n",
       "      <th>2015</th>\n",
       "      <td>40000</td>\n",
       "      <td>8000</td>\n",
       "      <td>4000</td>\n",
       "      <td>3000</td>\n",
       "      <td>2000.0</td>\n",
       "    </tr>\n",
       "  </tbody>\n",
       "</table>\n",
       "</div>"
      ],
      "text/plain": [
       "      경부선 KTX  호남선 KTX  경전선 KTX  전라선 KTX  동해선 KTX\n",
       "2011    30000     7000     3000      300      NaN\n",
       "2012    30000     6000     4000     1000      NaN\n",
       "2013    40000     6000     4000     1000      NaN\n",
       "2014    40000     6000     4000     2000      NaN\n",
       "2015    40000     8000     4000     3000   2000.0"
      ]
     },
     "execution_count": 34,
     "metadata": {},
     "output_type": "execute_result"
    }
   ],
   "source": [
    "KTX_df.head()"
   ]
  },
  {
   "cell_type": "code",
   "execution_count": 35,
   "metadata": {},
   "outputs": [
    {
     "data": {
      "text/html": [
       "<div>\n",
       "<style scoped>\n",
       "    .dataframe tbody tr th:only-of-type {\n",
       "        vertical-align: middle;\n",
       "    }\n",
       "\n",
       "    .dataframe tbody tr th {\n",
       "        vertical-align: top;\n",
       "    }\n",
       "\n",
       "    .dataframe thead th {\n",
       "        text-align: right;\n",
       "    }\n",
       "</style>\n",
       "<table border=\"1\" class=\"dataframe\">\n",
       "  <thead>\n",
       "    <tr style=\"text-align: right;\">\n",
       "      <th></th>\n",
       "      <th>경부선 KTX</th>\n",
       "      <th>호남선 KTX</th>\n",
       "      <th>경전선 KTX</th>\n",
       "      <th>전라선 KTX</th>\n",
       "      <th>동해선 KTX</th>\n",
       "    </tr>\n",
       "  </thead>\n",
       "  <tbody>\n",
       "    <tr>\n",
       "      <th>2013</th>\n",
       "      <td>40000</td>\n",
       "      <td>6000</td>\n",
       "      <td>4000</td>\n",
       "      <td>1000</td>\n",
       "      <td>NaN</td>\n",
       "    </tr>\n",
       "    <tr>\n",
       "      <th>2014</th>\n",
       "      <td>40000</td>\n",
       "      <td>6000</td>\n",
       "      <td>4000</td>\n",
       "      <td>2000</td>\n",
       "      <td>NaN</td>\n",
       "    </tr>\n",
       "    <tr>\n",
       "      <th>2015</th>\n",
       "      <td>40000</td>\n",
       "      <td>8000</td>\n",
       "      <td>4000</td>\n",
       "      <td>3000</td>\n",
       "      <td>2000.0</td>\n",
       "    </tr>\n",
       "    <tr>\n",
       "      <th>2016</th>\n",
       "      <td>40000</td>\n",
       "      <td>10000</td>\n",
       "      <td>4000</td>\n",
       "      <td>3000</td>\n",
       "      <td>3000.0</td>\n",
       "    </tr>\n",
       "    <tr>\n",
       "      <th>2017</th>\n",
       "      <td>30000</td>\n",
       "      <td>9000</td>\n",
       "      <td>5000</td>\n",
       "      <td>5000</td>\n",
       "      <td>6000.0</td>\n",
       "    </tr>\n",
       "  </tbody>\n",
       "</table>\n",
       "</div>"
      ],
      "text/plain": [
       "      경부선 KTX  호남선 KTX  경전선 KTX  전라선 KTX  동해선 KTX\n",
       "2013    40000     6000     4000     1000      NaN\n",
       "2014    40000     6000     4000     2000      NaN\n",
       "2015    40000     8000     4000     3000   2000.0\n",
       "2016    40000    10000     4000     3000   3000.0\n",
       "2017    30000     9000     5000     5000   6000.0"
      ]
     },
     "execution_count": 35,
     "metadata": {},
     "output_type": "execute_result"
    }
   ],
   "source": [
    "KTX_df.tail()"
   ]
  },
  {
   "cell_type": "code",
   "execution_count": 36,
   "metadata": {},
   "outputs": [
    {
     "data": {
      "text/html": [
       "<div>\n",
       "<style scoped>\n",
       "    .dataframe tbody tr th:only-of-type {\n",
       "        vertical-align: middle;\n",
       "    }\n",
       "\n",
       "    .dataframe tbody tr th {\n",
       "        vertical-align: top;\n",
       "    }\n",
       "\n",
       "    .dataframe thead th {\n",
       "        text-align: right;\n",
       "    }\n",
       "</style>\n",
       "<table border=\"1\" class=\"dataframe\">\n",
       "  <thead>\n",
       "    <tr style=\"text-align: right;\">\n",
       "      <th></th>\n",
       "      <th>경부선 KTX</th>\n",
       "      <th>호남선 KTX</th>\n",
       "      <th>경전선 KTX</th>\n",
       "      <th>전라선 KTX</th>\n",
       "      <th>동해선 KTX</th>\n",
       "    </tr>\n",
       "  </thead>\n",
       "  <tbody>\n",
       "    <tr>\n",
       "      <th>2012</th>\n",
       "      <td>30000</td>\n",
       "      <td>6000</td>\n",
       "      <td>4000</td>\n",
       "      <td>1000</td>\n",
       "      <td>NaN</td>\n",
       "    </tr>\n",
       "  </tbody>\n",
       "</table>\n",
       "</div>"
      ],
      "text/plain": [
       "      경부선 KTX  호남선 KTX  경전선 KTX  전라선 KTX  동해선 KTX\n",
       "2012    30000     6000     4000     1000      NaN"
      ]
     },
     "execution_count": 36,
     "metadata": {},
     "output_type": "execute_result"
    }
   ],
   "source": [
    "KTX_df[1:2]\n",
    "# 앞에서 부터 뒤에 숫자 빼기 1을 한 수만큼이므로 여기서는 KTX_df[1] 하나 뿐이다."
   ]
  },
  {
   "cell_type": "code",
   "execution_count": 37,
   "metadata": {},
   "outputs": [
    {
     "data": {
      "text/html": [
       "<div>\n",
       "<style scoped>\n",
       "    .dataframe tbody tr th:only-of-type {\n",
       "        vertical-align: middle;\n",
       "    }\n",
       "\n",
       "    .dataframe tbody tr th {\n",
       "        vertical-align: top;\n",
       "    }\n",
       "\n",
       "    .dataframe thead th {\n",
       "        text-align: right;\n",
       "    }\n",
       "</style>\n",
       "<table border=\"1\" class=\"dataframe\">\n",
       "  <thead>\n",
       "    <tr style=\"text-align: right;\">\n",
       "      <th></th>\n",
       "      <th>경부선 KTX</th>\n",
       "      <th>호남선 KTX</th>\n",
       "      <th>경전선 KTX</th>\n",
       "      <th>전라선 KTX</th>\n",
       "      <th>동해선 KTX</th>\n",
       "    </tr>\n",
       "  </thead>\n",
       "  <tbody>\n",
       "    <tr>\n",
       "      <th>2013</th>\n",
       "      <td>40000</td>\n",
       "      <td>6000</td>\n",
       "      <td>4000</td>\n",
       "      <td>1000</td>\n",
       "      <td>NaN</td>\n",
       "    </tr>\n",
       "    <tr>\n",
       "      <th>2014</th>\n",
       "      <td>40000</td>\n",
       "      <td>6000</td>\n",
       "      <td>4000</td>\n",
       "      <td>2000</td>\n",
       "      <td>NaN</td>\n",
       "    </tr>\n",
       "    <tr>\n",
       "      <th>2015</th>\n",
       "      <td>40000</td>\n",
       "      <td>8000</td>\n",
       "      <td>4000</td>\n",
       "      <td>3000</td>\n",
       "      <td>2000.0</td>\n",
       "    </tr>\n",
       "  </tbody>\n",
       "</table>\n",
       "</div>"
      ],
      "text/plain": [
       "      경부선 KTX  호남선 KTX  경전선 KTX  전라선 KTX  동해선 KTX\n",
       "2013    40000     6000     4000     1000      NaN\n",
       "2014    40000     6000     4000     2000      NaN\n",
       "2015    40000     8000     4000     3000   2000.0"
      ]
     },
     "execution_count": 37,
     "metadata": {},
     "output_type": "execute_result"
    }
   ],
   "source": [
    "KTX_df[2:5]"
   ]
  },
  {
   "cell_type": "code",
   "execution_count": 38,
   "metadata": {},
   "outputs": [
    {
     "data": {
      "text/plain": [
       "2011     300\n",
       "2012    1000\n",
       "2013    1000\n",
       "2014    2000\n",
       "2015    3000\n",
       "2016    3000\n",
       "2017    5000\n",
       "Name: 전라선 KTX, dtype: int64"
      ]
     },
     "execution_count": 38,
     "metadata": {},
     "output_type": "execute_result"
    }
   ],
   "source": [
    "KTX_df['전라선 KTX']"
   ]
  },
  {
   "cell_type": "code",
   "execution_count": 39,
   "metadata": {},
   "outputs": [
    {
     "data": {
      "text/plain": [
       "경부선 KTX    30000.0\n",
       "호남선 KTX     7000.0\n",
       "경전선 KTX     3000.0\n",
       "전라선 KTX      300.0\n",
       "동해선 KTX        NaN\n",
       "Name: 2011, dtype: float64"
      ]
     },
     "execution_count": 39,
     "metadata": {},
     "output_type": "execute_result"
    }
   ],
   "source": [
    "KTX_df.loc[2011]"
   ]
  },
  {
   "cell_type": "code",
   "execution_count": 40,
   "metadata": {},
   "outputs": [
    {
     "data": {
      "text/html": [
       "<div>\n",
       "<style scoped>\n",
       "    .dataframe tbody tr th:only-of-type {\n",
       "        vertical-align: middle;\n",
       "    }\n",
       "\n",
       "    .dataframe tbody tr th {\n",
       "        vertical-align: top;\n",
       "    }\n",
       "\n",
       "    .dataframe thead th {\n",
       "        text-align: right;\n",
       "    }\n",
       "</style>\n",
       "<table border=\"1\" class=\"dataframe\">\n",
       "  <thead>\n",
       "    <tr style=\"text-align: right;\">\n",
       "      <th></th>\n",
       "      <th>경부선 KTX</th>\n",
       "      <th>호남선 KTX</th>\n",
       "      <th>경전선 KTX</th>\n",
       "      <th>전라선 KTX</th>\n",
       "      <th>동해선 KTX</th>\n",
       "    </tr>\n",
       "  </thead>\n",
       "  <tbody>\n",
       "    <tr>\n",
       "      <th>2013</th>\n",
       "      <td>40000</td>\n",
       "      <td>6000</td>\n",
       "      <td>4000</td>\n",
       "      <td>1000</td>\n",
       "      <td>NaN</td>\n",
       "    </tr>\n",
       "    <tr>\n",
       "      <th>2014</th>\n",
       "      <td>40000</td>\n",
       "      <td>6000</td>\n",
       "      <td>4000</td>\n",
       "      <td>2000</td>\n",
       "      <td>NaN</td>\n",
       "    </tr>\n",
       "    <tr>\n",
       "      <th>2015</th>\n",
       "      <td>40000</td>\n",
       "      <td>8000</td>\n",
       "      <td>4000</td>\n",
       "      <td>3000</td>\n",
       "      <td>2000.0</td>\n",
       "    </tr>\n",
       "  </tbody>\n",
       "</table>\n",
       "</div>"
      ],
      "text/plain": [
       "      경부선 KTX  호남선 KTX  경전선 KTX  전라선 KTX  동해선 KTX\n",
       "2013    40000     6000     4000     1000      NaN\n",
       "2014    40000     6000     4000     2000      NaN\n",
       "2015    40000     8000     4000     3000   2000.0"
      ]
     },
     "execution_count": 40,
     "metadata": {},
     "output_type": "execute_result"
    }
   ],
   "source": [
    "KTX_df.loc[2013:2015]"
   ]
  },
  {
   "cell_type": "markdown",
   "metadata": {},
   "source": [
    "# 데이터 통합하기"
   ]
  },
  {
   "cell_type": "code",
   "execution_count": 41,
   "metadata": {},
   "outputs": [
    {
     "data": {
      "text/html": [
       "<div>\n",
       "<style scoped>\n",
       "    .dataframe tbody tr th:only-of-type {\n",
       "        vertical-align: middle;\n",
       "    }\n",
       "\n",
       "    .dataframe tbody tr th {\n",
       "        vertical-align: top;\n",
       "    }\n",
       "\n",
       "    .dataframe thead th {\n",
       "        text-align: right;\n",
       "    }\n",
       "</style>\n",
       "<table border=\"1\" class=\"dataframe\">\n",
       "  <thead>\n",
       "    <tr style=\"text-align: right;\">\n",
       "      <th></th>\n",
       "      <th>Class1</th>\n",
       "      <th>Class2</th>\n",
       "    </tr>\n",
       "  </thead>\n",
       "  <tbody>\n",
       "    <tr>\n",
       "      <th>0</th>\n",
       "      <td>95</td>\n",
       "      <td>91</td>\n",
       "    </tr>\n",
       "    <tr>\n",
       "      <th>1</th>\n",
       "      <td>92</td>\n",
       "      <td>93</td>\n",
       "    </tr>\n",
       "    <tr>\n",
       "      <th>2</th>\n",
       "      <td>98</td>\n",
       "      <td>97</td>\n",
       "    </tr>\n",
       "    <tr>\n",
       "      <th>3</th>\n",
       "      <td>100</td>\n",
       "      <td>99</td>\n",
       "    </tr>\n",
       "  </tbody>\n",
       "</table>\n",
       "</div>"
      ],
      "text/plain": [
       "   Class1  Class2\n",
       "0      95      91\n",
       "1      92      93\n",
       "2      98      97\n",
       "3     100      99"
      ]
     },
     "execution_count": 41,
     "metadata": {},
     "output_type": "execute_result"
    }
   ],
   "source": [
    "df1 = pd.DataFrame({'Class1': [95, 92, 98, 100],\n",
    "                    'Class2': [91, 93, 97, 99]})\n",
    "df1"
   ]
  },
  {
   "cell_type": "code",
   "execution_count": 42,
   "metadata": {},
   "outputs": [
    {
     "data": {
      "text/html": [
       "<div>\n",
       "<style scoped>\n",
       "    .dataframe tbody tr th:only-of-type {\n",
       "        vertical-align: middle;\n",
       "    }\n",
       "\n",
       "    .dataframe tbody tr th {\n",
       "        vertical-align: top;\n",
       "    }\n",
       "\n",
       "    .dataframe thead th {\n",
       "        text-align: right;\n",
       "    }\n",
       "</style>\n",
       "<table border=\"1\" class=\"dataframe\">\n",
       "  <thead>\n",
       "    <tr style=\"text-align: right;\">\n",
       "      <th></th>\n",
       "      <th>Class1</th>\n",
       "      <th>Class2</th>\n",
       "    </tr>\n",
       "  </thead>\n",
       "  <tbody>\n",
       "    <tr>\n",
       "      <th>0</th>\n",
       "      <td>87</td>\n",
       "      <td>85</td>\n",
       "    </tr>\n",
       "    <tr>\n",
       "      <th>1</th>\n",
       "      <td>89</td>\n",
       "      <td>90</td>\n",
       "    </tr>\n",
       "  </tbody>\n",
       "</table>\n",
       "</div>"
      ],
      "text/plain": [
       "   Class1  Class2\n",
       "0      87      85\n",
       "1      89      90"
      ]
     },
     "execution_count": 42,
     "metadata": {},
     "output_type": "execute_result"
    }
   ],
   "source": [
    "df2 = pd.DataFrame({'Class1': [87, 89],'Class2': [85, 90]})\n",
    "df2"
   ]
  },
  {
   "cell_type": "code",
   "execution_count": 43,
   "metadata": {},
   "outputs": [
    {
     "data": {
      "text/html": [
       "<div>\n",
       "<style scoped>\n",
       "    .dataframe tbody tr th:only-of-type {\n",
       "        vertical-align: middle;\n",
       "    }\n",
       "\n",
       "    .dataframe tbody tr th {\n",
       "        vertical-align: top;\n",
       "    }\n",
       "\n",
       "    .dataframe thead th {\n",
       "        text-align: right;\n",
       "    }\n",
       "</style>\n",
       "<table border=\"1\" class=\"dataframe\">\n",
       "  <thead>\n",
       "    <tr style=\"text-align: right;\">\n",
       "      <th></th>\n",
       "      <th>Class1</th>\n",
       "      <th>Class2</th>\n",
       "    </tr>\n",
       "  </thead>\n",
       "  <tbody>\n",
       "    <tr>\n",
       "      <th>0</th>\n",
       "      <td>95</td>\n",
       "      <td>91</td>\n",
       "    </tr>\n",
       "    <tr>\n",
       "      <th>1</th>\n",
       "      <td>92</td>\n",
       "      <td>93</td>\n",
       "    </tr>\n",
       "    <tr>\n",
       "      <th>2</th>\n",
       "      <td>98</td>\n",
       "      <td>97</td>\n",
       "    </tr>\n",
       "    <tr>\n",
       "      <th>3</th>\n",
       "      <td>100</td>\n",
       "      <td>99</td>\n",
       "    </tr>\n",
       "    <tr>\n",
       "      <th>0</th>\n",
       "      <td>87</td>\n",
       "      <td>85</td>\n",
       "    </tr>\n",
       "    <tr>\n",
       "      <th>1</th>\n",
       "      <td>89</td>\n",
       "      <td>90</td>\n",
       "    </tr>\n",
       "  </tbody>\n",
       "</table>\n",
       "</div>"
      ],
      "text/plain": [
       "   Class1  Class2\n",
       "0      95      91\n",
       "1      92      93\n",
       "2      98      97\n",
       "3     100      99\n",
       "0      87      85\n",
       "1      89      90"
      ]
     },
     "execution_count": 43,
     "metadata": {},
     "output_type": "execute_result"
    }
   ],
   "source": [
    "df1.append(df2)"
   ]
  },
  {
   "cell_type": "code",
   "execution_count": 44,
   "metadata": {},
   "outputs": [
    {
     "data": {
      "text/html": [
       "<div>\n",
       "<style scoped>\n",
       "    .dataframe tbody tr th:only-of-type {\n",
       "        vertical-align: middle;\n",
       "    }\n",
       "\n",
       "    .dataframe tbody tr th {\n",
       "        vertical-align: top;\n",
       "    }\n",
       "\n",
       "    .dataframe thead th {\n",
       "        text-align: right;\n",
       "    }\n",
       "</style>\n",
       "<table border=\"1\" class=\"dataframe\">\n",
       "  <thead>\n",
       "    <tr style=\"text-align: right;\">\n",
       "      <th></th>\n",
       "      <th>Class1</th>\n",
       "      <th>Class2</th>\n",
       "    </tr>\n",
       "  </thead>\n",
       "  <tbody>\n",
       "    <tr>\n",
       "      <th>0</th>\n",
       "      <td>95</td>\n",
       "      <td>91</td>\n",
       "    </tr>\n",
       "    <tr>\n",
       "      <th>1</th>\n",
       "      <td>92</td>\n",
       "      <td>93</td>\n",
       "    </tr>\n",
       "    <tr>\n",
       "      <th>2</th>\n",
       "      <td>98</td>\n",
       "      <td>97</td>\n",
       "    </tr>\n",
       "    <tr>\n",
       "      <th>3</th>\n",
       "      <td>100</td>\n",
       "      <td>99</td>\n",
       "    </tr>\n",
       "    <tr>\n",
       "      <th>4</th>\n",
       "      <td>87</td>\n",
       "      <td>85</td>\n",
       "    </tr>\n",
       "    <tr>\n",
       "      <th>5</th>\n",
       "      <td>89</td>\n",
       "      <td>90</td>\n",
       "    </tr>\n",
       "  </tbody>\n",
       "</table>\n",
       "</div>"
      ],
      "text/plain": [
       "   Class1  Class2\n",
       "0      95      91\n",
       "1      92      93\n",
       "2      98      97\n",
       "3     100      99\n",
       "4      87      85\n",
       "5      89      90"
      ]
     },
     "execution_count": 44,
     "metadata": {},
     "output_type": "execute_result"
    }
   ],
   "source": [
    "df1.append(df2, ignore_index=True)"
   ]
  },
  {
   "cell_type": "code",
   "execution_count": 45,
   "metadata": {},
   "outputs": [
    {
     "data": {
      "text/html": [
       "<div>\n",
       "<style scoped>\n",
       "    .dataframe tbody tr th:only-of-type {\n",
       "        vertical-align: middle;\n",
       "    }\n",
       "\n",
       "    .dataframe tbody tr th {\n",
       "        vertical-align: top;\n",
       "    }\n",
       "\n",
       "    .dataframe thead th {\n",
       "        text-align: right;\n",
       "    }\n",
       "</style>\n",
       "<table border=\"1\" class=\"dataframe\">\n",
       "  <thead>\n",
       "    <tr style=\"text-align: right;\">\n",
       "      <th></th>\n",
       "      <th>Class3</th>\n",
       "    </tr>\n",
       "  </thead>\n",
       "  <tbody>\n",
       "    <tr>\n",
       "      <th>0</th>\n",
       "      <td>93</td>\n",
       "    </tr>\n",
       "    <tr>\n",
       "      <th>1</th>\n",
       "      <td>91</td>\n",
       "    </tr>\n",
       "    <tr>\n",
       "      <th>2</th>\n",
       "      <td>95</td>\n",
       "    </tr>\n",
       "    <tr>\n",
       "      <th>3</th>\n",
       "      <td>98</td>\n",
       "    </tr>\n",
       "  </tbody>\n",
       "</table>\n",
       "</div>"
      ],
      "text/plain": [
       "   Class3\n",
       "0      93\n",
       "1      91\n",
       "2      95\n",
       "3      98"
      ]
     },
     "execution_count": 45,
     "metadata": {},
     "output_type": "execute_result"
    }
   ],
   "source": [
    "df4 = pd.DataFrame({'Class3': [93, 91, 95, 98]})\n",
    "df4"
   ]
  },
  {
   "cell_type": "code",
   "execution_count": 46,
   "metadata": {
    "scrolled": true
   },
   "outputs": [
    {
     "data": {
      "text/html": [
       "<div>\n",
       "<style scoped>\n",
       "    .dataframe tbody tr th:only-of-type {\n",
       "        vertical-align: middle;\n",
       "    }\n",
       "\n",
       "    .dataframe tbody tr th {\n",
       "        vertical-align: top;\n",
       "    }\n",
       "\n",
       "    .dataframe thead th {\n",
       "        text-align: right;\n",
       "    }\n",
       "</style>\n",
       "<table border=\"1\" class=\"dataframe\">\n",
       "  <thead>\n",
       "    <tr style=\"text-align: right;\">\n",
       "      <th></th>\n",
       "      <th>Class1</th>\n",
       "      <th>Class2</th>\n",
       "      <th>Class3</th>\n",
       "    </tr>\n",
       "  </thead>\n",
       "  <tbody>\n",
       "    <tr>\n",
       "      <th>0</th>\n",
       "      <td>95</td>\n",
       "      <td>91</td>\n",
       "      <td>93</td>\n",
       "    </tr>\n",
       "    <tr>\n",
       "      <th>1</th>\n",
       "      <td>92</td>\n",
       "      <td>93</td>\n",
       "      <td>91</td>\n",
       "    </tr>\n",
       "    <tr>\n",
       "      <th>2</th>\n",
       "      <td>98</td>\n",
       "      <td>97</td>\n",
       "      <td>95</td>\n",
       "    </tr>\n",
       "    <tr>\n",
       "      <th>3</th>\n",
       "      <td>100</td>\n",
       "      <td>99</td>\n",
       "      <td>98</td>\n",
       "    </tr>\n",
       "  </tbody>\n",
       "</table>\n",
       "</div>"
      ],
      "text/plain": [
       "   Class1  Class2  Class3\n",
       "0      95      91      93\n",
       "1      92      93      91\n",
       "2      98      97      95\n",
       "3     100      99      98"
      ]
     },
     "execution_count": 46,
     "metadata": {},
     "output_type": "execute_result"
    }
   ],
   "source": [
    "# Index 레이블이 같으면 join()을 이용하여 데이터 추가가능\n",
    "df1.join(df4)"
   ]
  },
  {
   "cell_type": "markdown",
   "metadata": {},
   "source": [
    "# 데이터 파일 저장하고 가져오기"
   ]
  },
  {
   "cell_type": "code",
   "execution_count": 47,
   "metadata": {},
   "outputs": [
    {
     "name": "stdout",
     "output_type": "stream",
     "text": [
      "Writing C:/Users/elris/Basic_AI_Data/sea_rain1.csv\n"
     ]
    }
   ],
   "source": [
    "%%writefile C:/Users/elris/Basic_AI_Data/sea_rain1.csv\n",
    "연도,동해,남해,서해,전체\n",
    "1996,15,16,17,18\n",
    "1997,13,14,15,16\n",
    "1998,17,16,15,14\n",
    "1999,18,18,17,17"
   ]
  },
  {
   "cell_type": "code",
   "execution_count": 48,
   "metadata": {},
   "outputs": [
    {
     "data": {
      "text/html": [
       "<div>\n",
       "<style scoped>\n",
       "    .dataframe tbody tr th:only-of-type {\n",
       "        vertical-align: middle;\n",
       "    }\n",
       "\n",
       "    .dataframe tbody tr th {\n",
       "        vertical-align: top;\n",
       "    }\n",
       "\n",
       "    .dataframe thead th {\n",
       "        text-align: right;\n",
       "    }\n",
       "</style>\n",
       "<table border=\"1\" class=\"dataframe\">\n",
       "  <thead>\n",
       "    <tr style=\"text-align: right;\">\n",
       "      <th></th>\n",
       "      <th>연도</th>\n",
       "      <th>동해</th>\n",
       "      <th>남해</th>\n",
       "      <th>서해</th>\n",
       "      <th>전체</th>\n",
       "    </tr>\n",
       "  </thead>\n",
       "  <tbody>\n",
       "    <tr>\n",
       "      <th>0</th>\n",
       "      <td>1996</td>\n",
       "      <td>15</td>\n",
       "      <td>16</td>\n",
       "      <td>17</td>\n",
       "      <td>18</td>\n",
       "    </tr>\n",
       "    <tr>\n",
       "      <th>1</th>\n",
       "      <td>1997</td>\n",
       "      <td>13</td>\n",
       "      <td>14</td>\n",
       "      <td>15</td>\n",
       "      <td>16</td>\n",
       "    </tr>\n",
       "    <tr>\n",
       "      <th>2</th>\n",
       "      <td>1998</td>\n",
       "      <td>17</td>\n",
       "      <td>16</td>\n",
       "      <td>15</td>\n",
       "      <td>14</td>\n",
       "    </tr>\n",
       "    <tr>\n",
       "      <th>3</th>\n",
       "      <td>1999</td>\n",
       "      <td>18</td>\n",
       "      <td>18</td>\n",
       "      <td>17</td>\n",
       "      <td>17</td>\n",
       "    </tr>\n",
       "  </tbody>\n",
       "</table>\n",
       "</div>"
      ],
      "text/plain": [
       "     연도  동해  남해  서해  전체\n",
       "0  1996  15  16  17  18\n",
       "1  1997  13  14  15  16\n",
       "2  1998  17  16  15  14\n",
       "3  1999  18  18  17  17"
      ]
     },
     "execution_count": 48,
     "metadata": {},
     "output_type": "execute_result"
    }
   ],
   "source": [
    "import pandas as pd\n",
    "sea = pd.read_csv('C:/Users/elris/Basic_AI_Data/sea_rain1.csv')\n",
    "sea"
   ]
  },
  {
   "cell_type": "code",
   "execution_count": 49,
   "metadata": {},
   "outputs": [
    {
     "data": {
      "text/html": [
       "<div>\n",
       "<style scoped>\n",
       "    .dataframe tbody tr th:only-of-type {\n",
       "        vertical-align: middle;\n",
       "    }\n",
       "\n",
       "    .dataframe tbody tr th {\n",
       "        vertical-align: top;\n",
       "    }\n",
       "\n",
       "    .dataframe thead th {\n",
       "        text-align: right;\n",
       "    }\n",
       "</style>\n",
       "<table border=\"1\" class=\"dataframe\">\n",
       "  <thead>\n",
       "    <tr style=\"text-align: right;\">\n",
       "      <th></th>\n",
       "      <th>동해</th>\n",
       "      <th>남해</th>\n",
       "      <th>서해</th>\n",
       "      <th>전체</th>\n",
       "    </tr>\n",
       "    <tr>\n",
       "      <th>연도</th>\n",
       "      <th></th>\n",
       "      <th></th>\n",
       "      <th></th>\n",
       "      <th></th>\n",
       "    </tr>\n",
       "  </thead>\n",
       "  <tbody>\n",
       "    <tr>\n",
       "      <th>1996</th>\n",
       "      <td>15</td>\n",
       "      <td>16</td>\n",
       "      <td>17</td>\n",
       "      <td>18</td>\n",
       "    </tr>\n",
       "    <tr>\n",
       "      <th>1997</th>\n",
       "      <td>13</td>\n",
       "      <td>14</td>\n",
       "      <td>15</td>\n",
       "      <td>16</td>\n",
       "    </tr>\n",
       "    <tr>\n",
       "      <th>1998</th>\n",
       "      <td>17</td>\n",
       "      <td>16</td>\n",
       "      <td>15</td>\n",
       "      <td>14</td>\n",
       "    </tr>\n",
       "    <tr>\n",
       "      <th>1999</th>\n",
       "      <td>18</td>\n",
       "      <td>18</td>\n",
       "      <td>17</td>\n",
       "      <td>17</td>\n",
       "    </tr>\n",
       "  </tbody>\n",
       "</table>\n",
       "</div>"
      ],
      "text/plain": [
       "      동해  남해  서해  전체\n",
       "연도                  \n",
       "1996  15  16  17  18\n",
       "1997  13  14  15  16\n",
       "1998  17  16  15  14\n",
       "1999  18  18  17  17"
      ]
     },
     "execution_count": 49,
     "metadata": {},
     "output_type": "execute_result"
    }
   ],
   "source": [
    "sea = pd.read_csv('C:/Users/elris/Basic_AI_Data/sea_rain1.csv', index_col=\"연도\")\n",
    "sea"
   ]
  },
  {
   "cell_type": "code",
   "execution_count": 50,
   "metadata": {},
   "outputs": [
    {
     "data": {
      "text/html": [
       "<div>\n",
       "<style scoped>\n",
       "    .dataframe tbody tr th:only-of-type {\n",
       "        vertical-align: middle;\n",
       "    }\n",
       "\n",
       "    .dataframe tbody tr th {\n",
       "        vertical-align: top;\n",
       "    }\n",
       "\n",
       "    .dataframe thead th {\n",
       "        text-align: right;\n",
       "    }\n",
       "</style>\n",
       "<table border=\"1\" class=\"dataframe\">\n",
       "  <thead>\n",
       "    <tr style=\"text-align: right;\">\n",
       "      <th></th>\n",
       "      <th>동해</th>\n",
       "      <th>남해</th>\n",
       "      <th>서해</th>\n",
       "      <th>전체</th>\n",
       "    </tr>\n",
       "    <tr>\n",
       "      <th>연도</th>\n",
       "      <th></th>\n",
       "      <th></th>\n",
       "      <th></th>\n",
       "      <th></th>\n",
       "    </tr>\n",
       "  </thead>\n",
       "  <tbody>\n",
       "    <tr>\n",
       "      <th>1996</th>\n",
       "      <td>15</td>\n",
       "      <td>16</td>\n",
       "      <td>17</td>\n",
       "      <td>18</td>\n",
       "    </tr>\n",
       "    <tr>\n",
       "      <th>1997</th>\n",
       "      <td>13</td>\n",
       "      <td>14</td>\n",
       "      <td>15</td>\n",
       "      <td>16</td>\n",
       "    </tr>\n",
       "    <tr>\n",
       "      <th>1998</th>\n",
       "      <td>17</td>\n",
       "      <td>16</td>\n",
       "      <td>15</td>\n",
       "      <td>14</td>\n",
       "    </tr>\n",
       "    <tr>\n",
       "      <th>1999</th>\n",
       "      <td>18</td>\n",
       "      <td>18</td>\n",
       "      <td>17</td>\n",
       "      <td>17</td>\n",
       "    </tr>\n",
       "  </tbody>\n",
       "</table>\n",
       "</div>"
      ],
      "text/plain": [
       "      동해  남해  서해  전체\n",
       "연도                  \n",
       "1996  15  16  17  18\n",
       "1997  13  14  15  16\n",
       "1998  17  16  15  14\n",
       "1999  18  18  17  17"
      ]
     },
     "execution_count": 50,
     "metadata": {},
     "output_type": "execute_result"
    }
   ],
   "source": [
    "pd.read_csv('C:/Users/elris/Basic_AI_Data/sea_rain1.csv',index_col=\"연도\", encoding = \"Utf-8\")"
   ]
  },
  {
   "cell_type": "code",
   "execution_count": 51,
   "metadata": {},
   "outputs": [
    {
     "data": {
      "text/html": [
       "<div>\n",
       "<style scoped>\n",
       "    .dataframe tbody tr th:only-of-type {\n",
       "        vertical-align: middle;\n",
       "    }\n",
       "\n",
       "    .dataframe tbody tr th {\n",
       "        vertical-align: top;\n",
       "    }\n",
       "\n",
       "    .dataframe thead th {\n",
       "        text-align: right;\n",
       "    }\n",
       "</style>\n",
       "<table border=\"1\" class=\"dataframe\">\n",
       "  <thead>\n",
       "    <tr style=\"text-align: right;\">\n",
       "      <th></th>\n",
       "      <th>Weight</th>\n",
       "      <th>Height</th>\n",
       "    </tr>\n",
       "    <tr>\n",
       "      <th>User</th>\n",
       "      <th></th>\n",
       "      <th></th>\n",
       "    </tr>\n",
       "  </thead>\n",
       "  <tbody>\n",
       "    <tr>\n",
       "      <th>ID_1</th>\n",
       "      <td>62</td>\n",
       "      <td>165</td>\n",
       "    </tr>\n",
       "    <tr>\n",
       "      <th>ID_2</th>\n",
       "      <td>67</td>\n",
       "      <td>177</td>\n",
       "    </tr>\n",
       "    <tr>\n",
       "      <th>ID_3</th>\n",
       "      <td>55</td>\n",
       "      <td>180</td>\n",
       "    </tr>\n",
       "    <tr>\n",
       "      <th>ID_4</th>\n",
       "      <td>74</td>\n",
       "      <td>172</td>\n",
       "    </tr>\n",
       "  </tbody>\n",
       "</table>\n",
       "</div>"
      ],
      "text/plain": [
       "      Weight  Height\n",
       "User                \n",
       "ID_1      62     165\n",
       "ID_2      67     177\n",
       "ID_3      55     180\n",
       "ID_4      74     172"
      ]
     },
     "execution_count": 51,
     "metadata": {},
     "output_type": "execute_result"
    }
   ],
   "source": [
    "df_body = pd.DataFrame({'Weight' : [62, 67, 55, 74],\n",
    "                         'Height' : [165, 177, 180, 172]},\n",
    "                          index = ['ID_1', 'ID_2', 'ID_3', 'ID_4'])\n",
    "df_body.index.name = 'User'\n",
    "df_body"
   ]
  },
  {
   "cell_type": "code",
   "execution_count": 52,
   "metadata": {},
   "outputs": [],
   "source": [
    "bmi = df_body['Weight']/((df_body['Height']/100)**2)"
   ]
  },
  {
   "cell_type": "code",
   "execution_count": 53,
   "metadata": {},
   "outputs": [
    {
     "data": {
      "text/html": [
       "<div>\n",
       "<style scoped>\n",
       "    .dataframe tbody tr th:only-of-type {\n",
       "        vertical-align: middle;\n",
       "    }\n",
       "\n",
       "    .dataframe tbody tr th {\n",
       "        vertical-align: top;\n",
       "    }\n",
       "\n",
       "    .dataframe thead th {\n",
       "        text-align: right;\n",
       "    }\n",
       "</style>\n",
       "<table border=\"1\" class=\"dataframe\">\n",
       "  <thead>\n",
       "    <tr style=\"text-align: right;\">\n",
       "      <th></th>\n",
       "      <th>Weight</th>\n",
       "      <th>Height</th>\n",
       "      <th>BMI</th>\n",
       "    </tr>\n",
       "    <tr>\n",
       "      <th>User</th>\n",
       "      <th></th>\n",
       "      <th></th>\n",
       "      <th></th>\n",
       "    </tr>\n",
       "  </thead>\n",
       "  <tbody>\n",
       "    <tr>\n",
       "      <th>ID_1</th>\n",
       "      <td>62</td>\n",
       "      <td>165</td>\n",
       "      <td>22.773186</td>\n",
       "    </tr>\n",
       "    <tr>\n",
       "      <th>ID_2</th>\n",
       "      <td>67</td>\n",
       "      <td>177</td>\n",
       "      <td>21.385936</td>\n",
       "    </tr>\n",
       "    <tr>\n",
       "      <th>ID_3</th>\n",
       "      <td>55</td>\n",
       "      <td>180</td>\n",
       "      <td>16.975309</td>\n",
       "    </tr>\n",
       "    <tr>\n",
       "      <th>ID_4</th>\n",
       "      <td>74</td>\n",
       "      <td>172</td>\n",
       "      <td>25.013521</td>\n",
       "    </tr>\n",
       "  </tbody>\n",
       "</table>\n",
       "</div>"
      ],
      "text/plain": [
       "      Weight  Height        BMI\n",
       "User                           \n",
       "ID_1      62     165  22.773186\n",
       "ID_2      67     177  21.385936\n",
       "ID_3      55     180  16.975309\n",
       "ID_4      74     172  25.013521"
      ]
     },
     "execution_count": 53,
     "metadata": {},
     "output_type": "execute_result"
    }
   ],
   "source": [
    "df_body['BMI'] = bmi\n",
    "df_body"
   ]
  },
  {
   "cell_type": "code",
   "execution_count": 54,
   "metadata": {},
   "outputs": [],
   "source": [
    "df_body.to_csv('C:/Users/elris/Basic_AI_Data/df_body.csv', encoding = 'Utf-8')"
   ]
  },
  {
   "cell_type": "code",
   "execution_count": 55,
   "metadata": {},
   "outputs": [],
   "source": [
    "#읽어오기와 저장하기\n",
    "#파일을 읽어오는 경우 pd.read_확장자명(파일명, 추가옵션)\n",
    "#파일을 저장하는 경우 pd.to_확장자명(파일명, 추가옵션)"
   ]
  },
  {
   "cell_type": "markdown",
   "metadata": {},
   "source": [
    "# 엑셀파일 다루기"
   ]
  },
  {
   "cell_type": "code",
   "execution_count": 62,
   "metadata": {},
   "outputs": [
    {
     "data": {
      "text/html": [
       "<div>\n",
       "<style scoped>\n",
       "    .dataframe tbody tr th:only-of-type {\n",
       "        vertical-align: middle;\n",
       "    }\n",
       "\n",
       "    .dataframe tbody tr th {\n",
       "        vertical-align: top;\n",
       "    }\n",
       "\n",
       "    .dataframe thead th {\n",
       "        text-align: right;\n",
       "    }\n",
       "</style>\n",
       "<table border=\"1\" class=\"dataframe\">\n",
       "  <thead>\n",
       "    <tr style=\"text-align: right;\">\n",
       "      <th></th>\n",
       "      <th>학생</th>\n",
       "      <th>국어</th>\n",
       "      <th>영어</th>\n",
       "      <th>수학</th>\n",
       "      <th>평균</th>\n",
       "    </tr>\n",
       "  </thead>\n",
       "  <tbody>\n",
       "    <tr>\n",
       "      <th>0</th>\n",
       "      <td>홍길동</td>\n",
       "      <td>85</td>\n",
       "      <td>85</td>\n",
       "      <td>100</td>\n",
       "      <td>90.00</td>\n",
       "    </tr>\n",
       "    <tr>\n",
       "      <th>1</th>\n",
       "      <td>이순신</td>\n",
       "      <td>70</td>\n",
       "      <td>95</td>\n",
       "      <td>85</td>\n",
       "      <td>86.33</td>\n",
       "    </tr>\n",
       "    <tr>\n",
       "      <th>2</th>\n",
       "      <td>유관순</td>\n",
       "      <td>100</td>\n",
       "      <td>75</td>\n",
       "      <td>80</td>\n",
       "      <td>85.00</td>\n",
       "    </tr>\n",
       "    <tr>\n",
       "      <th>3</th>\n",
       "      <td>안중근</td>\n",
       "      <td>95</td>\n",
       "      <td>90</td>\n",
       "      <td>95</td>\n",
       "      <td>93.33</td>\n",
       "    </tr>\n",
       "    <tr>\n",
       "      <th>4</th>\n",
       "      <td>박숭실</td>\n",
       "      <td>100</td>\n",
       "      <td>85</td>\n",
       "      <td>90</td>\n",
       "      <td>91.66</td>\n",
       "    </tr>\n",
       "  </tbody>\n",
       "</table>\n",
       "</div>"
      ],
      "text/plain": [
       "    학생   국어  영어   수학     평균\n",
       "0  홍길동   85  85  100  90.00\n",
       "1  이순신   70  95   85  86.33\n",
       "2  유관순  100  75   80  85.00\n",
       "3  안중근   95  90   95  93.33\n",
       "4  박숭실  100  85   90  91.66"
      ]
     },
     "execution_count": 62,
     "metadata": {},
     "output_type": "execute_result"
    }
   ],
   "source": [
    "df = pd.read_excel('C:/Users/elris/Basic_AI_Data/학생시험성적.xlsx', sheet_name = '기말')\n",
    "df"
   ]
  },
  {
   "cell_type": "code",
   "execution_count": 64,
   "metadata": {},
   "outputs": [
    {
     "data": {
      "text/html": [
       "<div>\n",
       "<style scoped>\n",
       "    .dataframe tbody tr th:only-of-type {\n",
       "        vertical-align: middle;\n",
       "    }\n",
       "\n",
       "    .dataframe tbody tr th {\n",
       "        vertical-align: top;\n",
       "    }\n",
       "\n",
       "    .dataframe thead th {\n",
       "        text-align: right;\n",
       "    }\n",
       "</style>\n",
       "<table border=\"1\" class=\"dataframe\">\n",
       "  <thead>\n",
       "    <tr style=\"text-align: right;\">\n",
       "      <th></th>\n",
       "      <th>국어</th>\n",
       "      <th>영어</th>\n",
       "      <th>수학</th>\n",
       "      <th>평균</th>\n",
       "    </tr>\n",
       "    <tr>\n",
       "      <th>학생</th>\n",
       "      <th></th>\n",
       "      <th></th>\n",
       "      <th></th>\n",
       "      <th></th>\n",
       "    </tr>\n",
       "  </thead>\n",
       "  <tbody>\n",
       "    <tr>\n",
       "      <th>홍길동</th>\n",
       "      <td>85</td>\n",
       "      <td>85</td>\n",
       "      <td>100</td>\n",
       "      <td>90.00</td>\n",
       "    </tr>\n",
       "    <tr>\n",
       "      <th>이순신</th>\n",
       "      <td>70</td>\n",
       "      <td>95</td>\n",
       "      <td>85</td>\n",
       "      <td>86.33</td>\n",
       "    </tr>\n",
       "    <tr>\n",
       "      <th>유관순</th>\n",
       "      <td>100</td>\n",
       "      <td>75</td>\n",
       "      <td>80</td>\n",
       "      <td>85.00</td>\n",
       "    </tr>\n",
       "    <tr>\n",
       "      <th>안중근</th>\n",
       "      <td>95</td>\n",
       "      <td>90</td>\n",
       "      <td>95</td>\n",
       "      <td>93.33</td>\n",
       "    </tr>\n",
       "    <tr>\n",
       "      <th>박숭실</th>\n",
       "      <td>100</td>\n",
       "      <td>85</td>\n",
       "      <td>90</td>\n",
       "      <td>91.66</td>\n",
       "    </tr>\n",
       "  </tbody>\n",
       "</table>\n",
       "</div>"
      ],
      "text/plain": [
       "      국어  영어   수학     평균\n",
       "학생                      \n",
       "홍길동   85  85  100  90.00\n",
       "이순신   70  95   85  86.33\n",
       "유관순  100  75   80  85.00\n",
       "안중근   95  90   95  93.33\n",
       "박숭실  100  85   90  91.66"
      ]
     },
     "execution_count": 64,
     "metadata": {},
     "output_type": "execute_result"
    }
   ],
   "source": [
    "df = pd.read_excel('C:/Users/elris/Basic_AI_Data/학생시험성적.xlsx', sheet_name = 1, index_col = 0)\n",
    "# index_col = 0 대신에 '학생'이라 써도 같은 결과\n",
    "df"
   ]
  },
  {
   "cell_type": "code",
   "execution_count": 65,
   "metadata": {},
   "outputs": [
    {
     "data": {
      "text/html": [
       "<div>\n",
       "<style scoped>\n",
       "    .dataframe tbody tr th:only-of-type {\n",
       "        vertical-align: middle;\n",
       "    }\n",
       "\n",
       "    .dataframe tbody tr th {\n",
       "        vertical-align: top;\n",
       "    }\n",
       "\n",
       "    .dataframe thead th {\n",
       "        text-align: right;\n",
       "    }\n",
       "</style>\n",
       "<table border=\"1\" class=\"dataframe\">\n",
       "  <thead>\n",
       "    <tr style=\"text-align: right;\">\n",
       "      <th></th>\n",
       "      <th>학생</th>\n",
       "      <th>국어</th>\n",
       "      <th>영어</th>\n",
       "      <th>수학</th>\n",
       "    </tr>\n",
       "  </thead>\n",
       "  <tbody>\n",
       "    <tr>\n",
       "      <th>0</th>\n",
       "      <td>A</td>\n",
       "      <td>80</td>\n",
       "      <td>90</td>\n",
       "      <td>85</td>\n",
       "    </tr>\n",
       "    <tr>\n",
       "      <th>1</th>\n",
       "      <td>B</td>\n",
       "      <td>90</td>\n",
       "      <td>95</td>\n",
       "      <td>95</td>\n",
       "    </tr>\n",
       "    <tr>\n",
       "      <th>2</th>\n",
       "      <td>C</td>\n",
       "      <td>95</td>\n",
       "      <td>70</td>\n",
       "      <td>75</td>\n",
       "    </tr>\n",
       "    <tr>\n",
       "      <th>3</th>\n",
       "      <td>D</td>\n",
       "      <td>70</td>\n",
       "      <td>85</td>\n",
       "      <td>80</td>\n",
       "    </tr>\n",
       "    <tr>\n",
       "      <th>4</th>\n",
       "      <td>E</td>\n",
       "      <td>75</td>\n",
       "      <td>90</td>\n",
       "      <td>85</td>\n",
       "    </tr>\n",
       "    <tr>\n",
       "      <th>5</th>\n",
       "      <td>F</td>\n",
       "      <td>85</td>\n",
       "      <td>95</td>\n",
       "      <td>100</td>\n",
       "    </tr>\n",
       "  </tbody>\n",
       "</table>\n",
       "</div>"
      ],
      "text/plain": [
       "  학생  국어  영어   수학\n",
       "0  A  80  90   85\n",
       "1  B  90  95   95\n",
       "2  C  95  70   75\n",
       "3  D  70  85   80\n",
       "4  E  75  90   85\n",
       "5  F  85  95  100"
      ]
     },
     "execution_count": 65,
     "metadata": {},
     "output_type": "execute_result"
    }
   ],
   "source": [
    "df1 = {'학생': ['A', 'B', 'C', 'D', 'E', 'F'], '국어': [80, 90, 95, 70, 75, 85], '영어': [90, 95, 70, 85, 90, 95], '수학': [85, 95, 75, 80, 85, 100]}\n",
    "df2 = pd.DataFrame(df1)\n",
    "df2"
   ]
  },
  {
   "cell_type": "code",
   "execution_count": 66,
   "metadata": {},
   "outputs": [],
   "source": [
    "e_writer = pd.ExcelWriter('C:/Users/elris/Basic_AI_Data/학생시험성적2.xlsx', engine='xlsxwriter')\n",
    "df2.to_excel(e_writer, index=False)\n",
    "e_writer.save()"
   ]
  },
  {
   "cell_type": "code",
   "execution_count": 67,
   "metadata": {},
   "outputs": [],
   "source": [
    "e_writer2 = pd.ExcelWriter('C:/Users/elris/Basic_AI_Data/학생시험성적3.xlsx', engine='xlsxwriter')\n",
    "df2.to_excel(e_writer2, index=False, sheet_name='중간')\n",
    "df2.to_excel(e_writer2, index=False, sheet_name='기말')\n",
    "e_writer2.save()"
   ]
  },
  {
   "cell_type": "code",
   "execution_count": 70,
   "metadata": {},
   "outputs": [
    {
     "data": {
      "text/plain": [
       "['C:/Users/elris/Basic_AI_Data/Andy_사원.xlsx',\n",
       " 'C:/Users/elris/Basic_AI_Data/Becky_사원.xlsx',\n",
       " 'C:/Users/elris/Basic_AI_Data/Chris_사원.xlsx']"
      ]
     },
     "execution_count": 70,
     "metadata": {},
     "output_type": "execute_result"
    }
   ],
   "source": [
    "excel_files = ['C:/Users/elris/Basic_AI_Data/Andy_사원.xlsx', 'C:/Users/elris/Basic_AI_Data/Becky_사원.xlsx', 'C:/Users/elris/Basic_AI_Data/Chris_사원.xlsx']\n",
    "total_data = pd.DataFrame()\n",
    "excel_files"
   ]
  },
  {
   "cell_type": "code",
   "execution_count": 71,
   "metadata": {},
   "outputs": [
    {
     "data": {
      "text/html": [
       "<div>\n",
       "<style scoped>\n",
       "    .dataframe tbody tr th:only-of-type {\n",
       "        vertical-align: middle;\n",
       "    }\n",
       "\n",
       "    .dataframe tbody tr th {\n",
       "        vertical-align: top;\n",
       "    }\n",
       "\n",
       "    .dataframe thead th {\n",
       "        text-align: right;\n",
       "    }\n",
       "</style>\n",
       "<table border=\"1\" class=\"dataframe\">\n",
       "  <thead>\n",
       "    <tr style=\"text-align: right;\">\n",
       "      <th></th>\n",
       "      <th>제품명</th>\n",
       "      <th>담당자</th>\n",
       "      <th>지역</th>\n",
       "      <th>1분기</th>\n",
       "      <th>2분기</th>\n",
       "      <th>3분기</th>\n",
       "      <th>4분기</th>\n",
       "    </tr>\n",
       "  </thead>\n",
       "  <tbody>\n",
       "    <tr>\n",
       "      <th>0</th>\n",
       "      <td>시계</td>\n",
       "      <td>Andy</td>\n",
       "      <td>동작구</td>\n",
       "      <td>198</td>\n",
       "      <td>123</td>\n",
       "      <td>120</td>\n",
       "      <td>137</td>\n",
       "    </tr>\n",
       "    <tr>\n",
       "      <th>1</th>\n",
       "      <td>구두</td>\n",
       "      <td>Andy</td>\n",
       "      <td>동작구</td>\n",
       "      <td>273</td>\n",
       "      <td>241</td>\n",
       "      <td>296</td>\n",
       "      <td>217</td>\n",
       "    </tr>\n",
       "    <tr>\n",
       "      <th>2</th>\n",
       "      <td>핸드백</td>\n",
       "      <td>Andy</td>\n",
       "      <td>동작구</td>\n",
       "      <td>385</td>\n",
       "      <td>316</td>\n",
       "      <td>355</td>\n",
       "      <td>331</td>\n",
       "    </tr>\n",
       "    <tr>\n",
       "      <th>3</th>\n",
       "      <td>시계</td>\n",
       "      <td>Becky</td>\n",
       "      <td>강남구</td>\n",
       "      <td>154</td>\n",
       "      <td>108</td>\n",
       "      <td>155</td>\n",
       "      <td>114</td>\n",
       "    </tr>\n",
       "    <tr>\n",
       "      <th>4</th>\n",
       "      <td>구두</td>\n",
       "      <td>Becky</td>\n",
       "      <td>강남구</td>\n",
       "      <td>200</td>\n",
       "      <td>223</td>\n",
       "      <td>213</td>\n",
       "      <td>202</td>\n",
       "    </tr>\n",
       "    <tr>\n",
       "      <th>5</th>\n",
       "      <td>핸드백</td>\n",
       "      <td>Becky</td>\n",
       "      <td>강남구</td>\n",
       "      <td>350</td>\n",
       "      <td>340</td>\n",
       "      <td>377</td>\n",
       "      <td>392</td>\n",
       "    </tr>\n",
       "    <tr>\n",
       "      <th>6</th>\n",
       "      <td>시계</td>\n",
       "      <td>Chris</td>\n",
       "      <td>종로구</td>\n",
       "      <td>168</td>\n",
       "      <td>102</td>\n",
       "      <td>149</td>\n",
       "      <td>174</td>\n",
       "    </tr>\n",
       "    <tr>\n",
       "      <th>7</th>\n",
       "      <td>구두</td>\n",
       "      <td>Chris</td>\n",
       "      <td>종로구</td>\n",
       "      <td>231</td>\n",
       "      <td>279</td>\n",
       "      <td>277</td>\n",
       "      <td>292</td>\n",
       "    </tr>\n",
       "    <tr>\n",
       "      <th>8</th>\n",
       "      <td>핸드백</td>\n",
       "      <td>Chris</td>\n",
       "      <td>종로구</td>\n",
       "      <td>365</td>\n",
       "      <td>383</td>\n",
       "      <td>308</td>\n",
       "      <td>323</td>\n",
       "    </tr>\n",
       "  </tbody>\n",
       "</table>\n",
       "</div>"
      ],
      "text/plain": [
       "   제품명    담당자   지역  1분기  2분기  3분기  4분기\n",
       "0   시계   Andy  동작구  198  123  120  137\n",
       "1   구두   Andy  동작구  273  241  296  217\n",
       "2  핸드백   Andy  동작구  385  316  355  331\n",
       "3   시계  Becky  강남구  154  108  155  114\n",
       "4   구두  Becky  강남구  200  223  213  202\n",
       "5  핸드백  Becky  강남구  350  340  377  392\n",
       "6   시계  Chris  종로구  168  102  149  174\n",
       "7   구두  Chris  종로구  231  279  277  292\n",
       "8  핸드백  Chris  종로구  365  383  308  323"
      ]
     },
     "execution_count": 71,
     "metadata": {},
     "output_type": "execute_result"
    }
   ],
   "source": [
    "for i in excel_files : \n",
    "    df = pd.read_excel(i)\n",
    "    total_data = total_data.append(df, ignore_index = True)\n",
    "total_data"
   ]
  },
  {
   "cell_type": "code",
   "execution_count": 78,
   "metadata": {},
   "outputs": [
    {
     "data": {
      "text/plain": [
       "['C:/Users/elris/Basic_AI_Data\\\\Andy_사원.xlsx',\n",
       " 'C:/Users/elris/Basic_AI_Data\\\\Becky_사원.xlsx',\n",
       " 'C:/Users/elris/Basic_AI_Data\\\\Chris_사원.xlsx']"
      ]
     },
     "execution_count": 78,
     "metadata": {},
     "output_type": "execute_result"
    }
   ],
   "source": [
    "import glob\n",
    "#glob는 지정 폴더 안의 파일들의 목록을 뽑을 때 사용, 파일의 경로명을 이용해서 선별가능\n",
    "excel_files2 = glob.glob('C:/Users/elris/Basic_AI_Data/*사원.xlsx')\n",
    "#이름에 사원이 들어가고 확장자가 xlsx인 파일들을 모두 불러와라\n",
    "# * : 모든 문자열을 의미, ? : 한 글자로 된 모든 문자열을 의미\n",
    "#*.*로 불러오면 모든 파일명과 확장자를 불러와달라는 의미\n",
    "total_data2 = pd.DataFrame()\n",
    "excel_files2"
   ]
  },
  {
   "cell_type": "code",
   "execution_count": 79,
   "metadata": {},
   "outputs": [
    {
     "data": {
      "text/html": [
       "<div>\n",
       "<style scoped>\n",
       "    .dataframe tbody tr th:only-of-type {\n",
       "        vertical-align: middle;\n",
       "    }\n",
       "\n",
       "    .dataframe tbody tr th {\n",
       "        vertical-align: top;\n",
       "    }\n",
       "\n",
       "    .dataframe thead th {\n",
       "        text-align: right;\n",
       "    }\n",
       "</style>\n",
       "<table border=\"1\" class=\"dataframe\">\n",
       "  <thead>\n",
       "    <tr style=\"text-align: right;\">\n",
       "      <th></th>\n",
       "      <th>제품명</th>\n",
       "      <th>담당자</th>\n",
       "      <th>지역</th>\n",
       "      <th>1분기</th>\n",
       "      <th>2분기</th>\n",
       "      <th>3분기</th>\n",
       "      <th>4분기</th>\n",
       "    </tr>\n",
       "  </thead>\n",
       "  <tbody>\n",
       "    <tr>\n",
       "      <th>0</th>\n",
       "      <td>시계</td>\n",
       "      <td>Andy</td>\n",
       "      <td>동작구</td>\n",
       "      <td>198</td>\n",
       "      <td>123</td>\n",
       "      <td>120</td>\n",
       "      <td>137</td>\n",
       "    </tr>\n",
       "    <tr>\n",
       "      <th>1</th>\n",
       "      <td>구두</td>\n",
       "      <td>Andy</td>\n",
       "      <td>동작구</td>\n",
       "      <td>273</td>\n",
       "      <td>241</td>\n",
       "      <td>296</td>\n",
       "      <td>217</td>\n",
       "    </tr>\n",
       "    <tr>\n",
       "      <th>2</th>\n",
       "      <td>핸드백</td>\n",
       "      <td>Andy</td>\n",
       "      <td>동작구</td>\n",
       "      <td>385</td>\n",
       "      <td>316</td>\n",
       "      <td>355</td>\n",
       "      <td>331</td>\n",
       "    </tr>\n",
       "    <tr>\n",
       "      <th>3</th>\n",
       "      <td>시계</td>\n",
       "      <td>Becky</td>\n",
       "      <td>강남구</td>\n",
       "      <td>154</td>\n",
       "      <td>108</td>\n",
       "      <td>155</td>\n",
       "      <td>114</td>\n",
       "    </tr>\n",
       "    <tr>\n",
       "      <th>4</th>\n",
       "      <td>구두</td>\n",
       "      <td>Becky</td>\n",
       "      <td>강남구</td>\n",
       "      <td>200</td>\n",
       "      <td>223</td>\n",
       "      <td>213</td>\n",
       "      <td>202</td>\n",
       "    </tr>\n",
       "    <tr>\n",
       "      <th>5</th>\n",
       "      <td>핸드백</td>\n",
       "      <td>Becky</td>\n",
       "      <td>강남구</td>\n",
       "      <td>350</td>\n",
       "      <td>340</td>\n",
       "      <td>377</td>\n",
       "      <td>392</td>\n",
       "    </tr>\n",
       "    <tr>\n",
       "      <th>6</th>\n",
       "      <td>시계</td>\n",
       "      <td>Chris</td>\n",
       "      <td>종로구</td>\n",
       "      <td>168</td>\n",
       "      <td>102</td>\n",
       "      <td>149</td>\n",
       "      <td>174</td>\n",
       "    </tr>\n",
       "    <tr>\n",
       "      <th>7</th>\n",
       "      <td>구두</td>\n",
       "      <td>Chris</td>\n",
       "      <td>종로구</td>\n",
       "      <td>231</td>\n",
       "      <td>279</td>\n",
       "      <td>277</td>\n",
       "      <td>292</td>\n",
       "    </tr>\n",
       "    <tr>\n",
       "      <th>8</th>\n",
       "      <td>핸드백</td>\n",
       "      <td>Chris</td>\n",
       "      <td>종로구</td>\n",
       "      <td>365</td>\n",
       "      <td>383</td>\n",
       "      <td>308</td>\n",
       "      <td>323</td>\n",
       "    </tr>\n",
       "  </tbody>\n",
       "</table>\n",
       "</div>"
      ],
      "text/plain": [
       "   제품명    담당자   지역  1분기  2분기  3분기  4분기\n",
       "0   시계   Andy  동작구  198  123  120  137\n",
       "1   구두   Andy  동작구  273  241  296  217\n",
       "2  핸드백   Andy  동작구  385  316  355  331\n",
       "3   시계  Becky  강남구  154  108  155  114\n",
       "4   구두  Becky  강남구  200  223  213  202\n",
       "5  핸드백  Becky  강남구  350  340  377  392\n",
       "6   시계  Chris  종로구  168  102  149  174\n",
       "7   구두  Chris  종로구  231  279  277  292\n",
       "8  핸드백  Chris  종로구  365  383  308  323"
      ]
     },
     "execution_count": 79,
     "metadata": {},
     "output_type": "execute_result"
    }
   ],
   "source": [
    "for i in excel_files2 :\n",
    "    df = pd.read_excel(i)\n",
    "    total_data2 = total_data2.append(df, ignore_index=True)\n",
    "total_data2"
   ]
  },
  {
   "cell_type": "code",
   "execution_count": 80,
   "metadata": {},
   "outputs": [],
   "source": [
    "f_name = 'C:/Users/elris/Basic_AI_Data/판매량_통합.xlsx'\n",
    "# 데이터를 처리하기 쉽게 한 곳으로 통합\n",
    "total_writer = pd.ExcelWriter(f_name, engine='xlsxwriter')\n",
    "total_data2.to_excel(total_writer, index=False, sheet_name='통합')\n",
    "total_writer.save()"
   ]
  },
  {
   "cell_type": "code",
   "execution_count": 81,
   "metadata": {},
   "outputs": [
    {
     "data": {
      "text/html": [
       "<div>\n",
       "<style scoped>\n",
       "    .dataframe tbody tr th:only-of-type {\n",
       "        vertical-align: middle;\n",
       "    }\n",
       "\n",
       "    .dataframe tbody tr th {\n",
       "        vertical-align: top;\n",
       "    }\n",
       "\n",
       "    .dataframe thead th {\n",
       "        text-align: right;\n",
       "    }\n",
       "</style>\n",
       "<table border=\"1\" class=\"dataframe\">\n",
       "  <thead>\n",
       "    <tr style=\"text-align: right;\">\n",
       "      <th></th>\n",
       "      <th>제품명</th>\n",
       "      <th>담당자</th>\n",
       "      <th>지역</th>\n",
       "      <th>1분기</th>\n",
       "      <th>2분기</th>\n",
       "      <th>3분기</th>\n",
       "      <th>4분기</th>\n",
       "    </tr>\n",
       "  </thead>\n",
       "  <tbody>\n",
       "    <tr>\n",
       "      <th>2</th>\n",
       "      <td>핸드백</td>\n",
       "      <td>Andy</td>\n",
       "      <td>동작구</td>\n",
       "      <td>385</td>\n",
       "      <td>316</td>\n",
       "      <td>355</td>\n",
       "      <td>331</td>\n",
       "    </tr>\n",
       "    <tr>\n",
       "      <th>5</th>\n",
       "      <td>핸드백</td>\n",
       "      <td>Becky</td>\n",
       "      <td>강남구</td>\n",
       "      <td>350</td>\n",
       "      <td>340</td>\n",
       "      <td>377</td>\n",
       "      <td>392</td>\n",
       "    </tr>\n",
       "    <tr>\n",
       "      <th>8</th>\n",
       "      <td>핸드백</td>\n",
       "      <td>Chris</td>\n",
       "      <td>종로구</td>\n",
       "      <td>365</td>\n",
       "      <td>383</td>\n",
       "      <td>308</td>\n",
       "      <td>323</td>\n",
       "    </tr>\n",
       "  </tbody>\n",
       "</table>\n",
       "</div>"
      ],
      "text/plain": [
       "   제품명    담당자   지역  1분기  2분기  3분기  4분기\n",
       "2  핸드백   Andy  동작구  385  316  355  331\n",
       "5  핸드백  Becky  강남구  350  340  377  392\n",
       "8  핸드백  Chris  종로구  365  383  308  323"
      ]
     },
     "execution_count": 81,
     "metadata": {},
     "output_type": "execute_result"
    }
   ],
   "source": [
    "df = pd.read_excel('C:/Users/elris/Basic_AI_Data/판매량_통합.xlsx')\n",
    "handbag = df[(df['제품명']== '핸드백')] \n",
    "# 판매량_통합.xlsx 파일로 부터 제품명이 ‘핸드백’인 데이터만 가져오기\n",
    "handbag"
   ]
  },
  {
   "cell_type": "code",
   "execution_count": 82,
   "metadata": {},
   "outputs": [
    {
     "data": {
      "text/html": [
       "<div>\n",
       "<style scoped>\n",
       "    .dataframe tbody tr th:only-of-type {\n",
       "        vertical-align: middle;\n",
       "    }\n",
       "\n",
       "    .dataframe tbody tr th {\n",
       "        vertical-align: top;\n",
       "    }\n",
       "\n",
       "    .dataframe thead th {\n",
       "        text-align: right;\n",
       "    }\n",
       "</style>\n",
       "<table border=\"1\" class=\"dataframe\">\n",
       "  <thead>\n",
       "    <tr style=\"text-align: right;\">\n",
       "      <th></th>\n",
       "      <th>연간판매량</th>\n",
       "    </tr>\n",
       "  </thead>\n",
       "  <tbody>\n",
       "    <tr>\n",
       "      <th>2</th>\n",
       "      <td>1387</td>\n",
       "    </tr>\n",
       "    <tr>\n",
       "      <th>5</th>\n",
       "      <td>1459</td>\n",
       "    </tr>\n",
       "    <tr>\n",
       "      <th>8</th>\n",
       "      <td>1379</td>\n",
       "    </tr>\n",
       "  </tbody>\n",
       "</table>\n",
       "</div>"
      ],
      "text/plain": [
       "   연간판매량\n",
       "2   1387\n",
       "5   1459\n",
       "8   1379"
      ]
     },
     "execution_count": 82,
     "metadata": {},
     "output_type": "execute_result"
    }
   ],
   "source": [
    "handbag_sum = pd.DataFrame(handbag.sum(axis=1), columns = ['연간판매량'])\n",
    "# 행끼리 더해주어야하므로 axis=1\n",
    "handbag_sum"
   ]
  },
  {
   "cell_type": "code",
   "execution_count": 83,
   "metadata": {},
   "outputs": [
    {
     "data": {
      "text/html": [
       "<div>\n",
       "<style scoped>\n",
       "    .dataframe tbody tr th:only-of-type {\n",
       "        vertical-align: middle;\n",
       "    }\n",
       "\n",
       "    .dataframe tbody tr th {\n",
       "        vertical-align: top;\n",
       "    }\n",
       "\n",
       "    .dataframe thead th {\n",
       "        text-align: right;\n",
       "    }\n",
       "</style>\n",
       "<table border=\"1\" class=\"dataframe\">\n",
       "  <thead>\n",
       "    <tr style=\"text-align: right;\">\n",
       "      <th></th>\n",
       "      <th>제품명</th>\n",
       "      <th>담당자</th>\n",
       "      <th>지역</th>\n",
       "      <th>1분기</th>\n",
       "      <th>2분기</th>\n",
       "      <th>3분기</th>\n",
       "      <th>4분기</th>\n",
       "      <th>연간판매량</th>\n",
       "    </tr>\n",
       "  </thead>\n",
       "  <tbody>\n",
       "    <tr>\n",
       "      <th>2</th>\n",
       "      <td>핸드백</td>\n",
       "      <td>Andy</td>\n",
       "      <td>동작구</td>\n",
       "      <td>385</td>\n",
       "      <td>316</td>\n",
       "      <td>355</td>\n",
       "      <td>331</td>\n",
       "      <td>1387</td>\n",
       "    </tr>\n",
       "    <tr>\n",
       "      <th>5</th>\n",
       "      <td>핸드백</td>\n",
       "      <td>Becky</td>\n",
       "      <td>강남구</td>\n",
       "      <td>350</td>\n",
       "      <td>340</td>\n",
       "      <td>377</td>\n",
       "      <td>392</td>\n",
       "      <td>1459</td>\n",
       "    </tr>\n",
       "    <tr>\n",
       "      <th>8</th>\n",
       "      <td>핸드백</td>\n",
       "      <td>Chris</td>\n",
       "      <td>종로구</td>\n",
       "      <td>365</td>\n",
       "      <td>383</td>\n",
       "      <td>308</td>\n",
       "      <td>323</td>\n",
       "      <td>1379</td>\n",
       "    </tr>\n",
       "  </tbody>\n",
       "</table>\n",
       "</div>"
      ],
      "text/plain": [
       "   제품명    담당자   지역  1분기  2분기  3분기  4분기  연간판매량\n",
       "2  핸드백   Andy  동작구  385  316  355  331   1387\n",
       "5  핸드백  Becky  강남구  350  340  377  392   1459\n",
       "8  핸드백  Chris  종로구  365  383  308  323   1379"
      ]
     },
     "execution_count": 83,
     "metadata": {},
     "output_type": "execute_result"
    }
   ],
   "source": [
    "handbag_total = handbag.join(handbag_sum) \n",
    "# 연간판매량을 가로 통합하기\n",
    "handbag_total"
   ]
  },
  {
   "cell_type": "code",
   "execution_count": 84,
   "metadata": {},
   "outputs": [
    {
     "data": {
      "text/html": [
       "<div>\n",
       "<style scoped>\n",
       "    .dataframe tbody tr th:only-of-type {\n",
       "        vertical-align: middle;\n",
       "    }\n",
       "\n",
       "    .dataframe tbody tr th {\n",
       "        vertical-align: top;\n",
       "    }\n",
       "\n",
       "    .dataframe thead th {\n",
       "        text-align: right;\n",
       "    }\n",
       "</style>\n",
       "<table border=\"1\" class=\"dataframe\">\n",
       "  <thead>\n",
       "    <tr style=\"text-align: right;\">\n",
       "      <th></th>\n",
       "      <th>합계</th>\n",
       "    </tr>\n",
       "  </thead>\n",
       "  <tbody>\n",
       "    <tr>\n",
       "      <th>제품명</th>\n",
       "      <td>핸드백핸드백핸드백</td>\n",
       "    </tr>\n",
       "    <tr>\n",
       "      <th>담당자</th>\n",
       "      <td>AndyBeckyChris</td>\n",
       "    </tr>\n",
       "    <tr>\n",
       "      <th>지역</th>\n",
       "      <td>동작구강남구종로구</td>\n",
       "    </tr>\n",
       "    <tr>\n",
       "      <th>1분기</th>\n",
       "      <td>1100</td>\n",
       "    </tr>\n",
       "    <tr>\n",
       "      <th>2분기</th>\n",
       "      <td>1039</td>\n",
       "    </tr>\n",
       "    <tr>\n",
       "      <th>3분기</th>\n",
       "      <td>1040</td>\n",
       "    </tr>\n",
       "    <tr>\n",
       "      <th>4분기</th>\n",
       "      <td>1046</td>\n",
       "    </tr>\n",
       "    <tr>\n",
       "      <th>연간판매량</th>\n",
       "      <td>4225</td>\n",
       "    </tr>\n",
       "  </tbody>\n",
       "</table>\n",
       "</div>"
      ],
      "text/plain": [
       "                   합계\n",
       "제품명         핸드백핸드백핸드백\n",
       "담당자    AndyBeckyChris\n",
       "지역          동작구강남구종로구\n",
       "1분기              1100\n",
       "2분기              1039\n",
       "3분기              1040\n",
       "4분기              1046\n",
       "연간판매량            4225"
      ]
     },
     "execution_count": 84,
     "metadata": {},
     "output_type": "execute_result"
    }
   ],
   "source": [
    "handbag_sum2 = pd.DataFrame(handbag_total.sum(), columns=['합계']) \n",
    "# axis = 0은 기본값으로 생략 가능\n",
    "handbag_sum2"
   ]
  },
  {
   "cell_type": "code",
   "execution_count": 85,
   "metadata": {},
   "outputs": [
    {
     "data": {
      "text/html": [
       "<div>\n",
       "<style scoped>\n",
       "    .dataframe tbody tr th:only-of-type {\n",
       "        vertical-align: middle;\n",
       "    }\n",
       "\n",
       "    .dataframe tbody tr th {\n",
       "        vertical-align: top;\n",
       "    }\n",
       "\n",
       "    .dataframe thead th {\n",
       "        text-align: right;\n",
       "    }\n",
       "</style>\n",
       "<table border=\"1\" class=\"dataframe\">\n",
       "  <thead>\n",
       "    <tr style=\"text-align: right;\">\n",
       "      <th></th>\n",
       "      <th>제품명</th>\n",
       "      <th>담당자</th>\n",
       "      <th>지역</th>\n",
       "      <th>1분기</th>\n",
       "      <th>2분기</th>\n",
       "      <th>3분기</th>\n",
       "      <th>4분기</th>\n",
       "      <th>연간판매량</th>\n",
       "    </tr>\n",
       "  </thead>\n",
       "  <tbody>\n",
       "    <tr>\n",
       "      <th>합계</th>\n",
       "      <td>핸드백핸드백핸드백</td>\n",
       "      <td>AndyBeckyChris</td>\n",
       "      <td>동작구강남구종로구</td>\n",
       "      <td>1100</td>\n",
       "      <td>1039</td>\n",
       "      <td>1040</td>\n",
       "      <td>1046</td>\n",
       "      <td>4225</td>\n",
       "    </tr>\n",
       "  </tbody>\n",
       "</table>\n",
       "</div>"
      ],
      "text/plain": [
       "          제품명             담당자         지역   1분기   2분기   3분기   4분기 연간판매량\n",
       "합계  핸드백핸드백핸드백  AndyBeckyChris  동작구강남구종로구  1100  1039  1040  1046  4225"
      ]
     },
     "execution_count": 85,
     "metadata": {},
     "output_type": "execute_result"
    }
   ],
   "source": [
    "handbag_sum2.T\n",
    "# 전치메소드"
   ]
  },
  {
   "cell_type": "code",
   "execution_count": 86,
   "metadata": {},
   "outputs": [
    {
     "data": {
      "text/html": [
       "<div>\n",
       "<style scoped>\n",
       "    .dataframe tbody tr th:only-of-type {\n",
       "        vertical-align: middle;\n",
       "    }\n",
       "\n",
       "    .dataframe tbody tr th {\n",
       "        vertical-align: top;\n",
       "    }\n",
       "\n",
       "    .dataframe thead th {\n",
       "        text-align: right;\n",
       "    }\n",
       "</style>\n",
       "<table border=\"1\" class=\"dataframe\">\n",
       "  <thead>\n",
       "    <tr style=\"text-align: right;\">\n",
       "      <th></th>\n",
       "      <th>제품명</th>\n",
       "      <th>담당자</th>\n",
       "      <th>지역</th>\n",
       "      <th>1분기</th>\n",
       "      <th>2분기</th>\n",
       "      <th>3분기</th>\n",
       "      <th>4분기</th>\n",
       "      <th>연간판매량</th>\n",
       "    </tr>\n",
       "  </thead>\n",
       "  <tbody>\n",
       "    <tr>\n",
       "      <th>2</th>\n",
       "      <td>핸드백</td>\n",
       "      <td>Andy</td>\n",
       "      <td>동작구</td>\n",
       "      <td>385</td>\n",
       "      <td>316</td>\n",
       "      <td>355</td>\n",
       "      <td>331</td>\n",
       "      <td>1387</td>\n",
       "    </tr>\n",
       "    <tr>\n",
       "      <th>5</th>\n",
       "      <td>핸드백</td>\n",
       "      <td>Becky</td>\n",
       "      <td>강남구</td>\n",
       "      <td>350</td>\n",
       "      <td>340</td>\n",
       "      <td>377</td>\n",
       "      <td>392</td>\n",
       "      <td>1459</td>\n",
       "    </tr>\n",
       "    <tr>\n",
       "      <th>8</th>\n",
       "      <td>핸드백</td>\n",
       "      <td>Chris</td>\n",
       "      <td>종로구</td>\n",
       "      <td>365</td>\n",
       "      <td>383</td>\n",
       "      <td>308</td>\n",
       "      <td>323</td>\n",
       "      <td>1379</td>\n",
       "    </tr>\n",
       "    <tr>\n",
       "      <th>합계</th>\n",
       "      <td>핸드백핸드백핸드백</td>\n",
       "      <td>AndyBeckyChris</td>\n",
       "      <td>동작구강남구종로구</td>\n",
       "      <td>1100</td>\n",
       "      <td>1039</td>\n",
       "      <td>1040</td>\n",
       "      <td>1046</td>\n",
       "      <td>4225</td>\n",
       "    </tr>\n",
       "  </tbody>\n",
       "</table>\n",
       "</div>"
      ],
      "text/plain": [
       "          제품명             담당자         지역   1분기   2분기   3분기   4분기 연간판매량\n",
       "2         핸드백            Andy        동작구   385   316   355   331  1387\n",
       "5         핸드백           Becky        강남구   350   340   377   392  1459\n",
       "8         핸드백           Chris        종로구   365   383   308   323  1379\n",
       "합계  핸드백핸드백핸드백  AndyBeckyChris  동작구강남구종로구  1100  1039  1040  1046  4225"
      ]
     },
     "execution_count": 86,
     "metadata": {},
     "output_type": "execute_result"
    }
   ],
   "source": [
    "handbag_total2 = handbag_total.append(handbag_sum2.T)\n",
    "handbag_total2"
   ]
  },
  {
   "cell_type": "code",
   "execution_count": 87,
   "metadata": {},
   "outputs": [
    {
     "data": {
      "text/html": [
       "<div>\n",
       "<style scoped>\n",
       "    .dataframe tbody tr th:only-of-type {\n",
       "        vertical-align: middle;\n",
       "    }\n",
       "\n",
       "    .dataframe tbody tr th {\n",
       "        vertical-align: top;\n",
       "    }\n",
       "\n",
       "    .dataframe thead th {\n",
       "        text-align: right;\n",
       "    }\n",
       "</style>\n",
       "<table border=\"1\" class=\"dataframe\">\n",
       "  <thead>\n",
       "    <tr style=\"text-align: right;\">\n",
       "      <th></th>\n",
       "      <th>제품명</th>\n",
       "      <th>담당자</th>\n",
       "      <th>지역</th>\n",
       "      <th>1분기</th>\n",
       "      <th>2분기</th>\n",
       "      <th>3분기</th>\n",
       "      <th>4분기</th>\n",
       "      <th>연간판매량</th>\n",
       "    </tr>\n",
       "  </thead>\n",
       "  <tbody>\n",
       "    <tr>\n",
       "      <th>2</th>\n",
       "      <td>핸드백</td>\n",
       "      <td>Andy</td>\n",
       "      <td>동작구</td>\n",
       "      <td>385</td>\n",
       "      <td>316</td>\n",
       "      <td>355</td>\n",
       "      <td>331</td>\n",
       "      <td>1387</td>\n",
       "    </tr>\n",
       "    <tr>\n",
       "      <th>5</th>\n",
       "      <td>핸드백</td>\n",
       "      <td>Becky</td>\n",
       "      <td>강남구</td>\n",
       "      <td>350</td>\n",
       "      <td>340</td>\n",
       "      <td>377</td>\n",
       "      <td>392</td>\n",
       "      <td>1459</td>\n",
       "    </tr>\n",
       "    <tr>\n",
       "      <th>8</th>\n",
       "      <td>핸드백</td>\n",
       "      <td>Chris</td>\n",
       "      <td>종로구</td>\n",
       "      <td>365</td>\n",
       "      <td>383</td>\n",
       "      <td>308</td>\n",
       "      <td>323</td>\n",
       "      <td>1379</td>\n",
       "    </tr>\n",
       "    <tr>\n",
       "      <th>합계</th>\n",
       "      <td>핸드백</td>\n",
       "      <td>전체</td>\n",
       "      <td>전체</td>\n",
       "      <td>1100</td>\n",
       "      <td>1039</td>\n",
       "      <td>1040</td>\n",
       "      <td>1046</td>\n",
       "      <td>4225</td>\n",
       "    </tr>\n",
       "  </tbody>\n",
       "</table>\n",
       "</div>"
      ],
      "text/plain": [
       "    제품명    담당자   지역   1분기   2분기   3분기   4분기 연간판매량\n",
       "2   핸드백   Andy  동작구   385   316   355   331  1387\n",
       "5   핸드백  Becky  강남구   350   340   377   392  1459\n",
       "8   핸드백  Chris  종로구   365   383   308   323  1379\n",
       "합계  핸드백     전체   전체  1100  1039  1040  1046  4225"
      ]
     },
     "execution_count": 87,
     "metadata": {},
     "output_type": "execute_result"
    }
   ],
   "source": [
    "handbag_total2.loc['합계', '제품명'] = '핸드백'\n",
    "handbag_total2.loc['합계', '담당자'] = '전체'\n",
    "handbag_total2.loc['합계', '지역'] = '전체'\n",
    "handbag_total2"
   ]
  },
  {
   "cell_type": "code",
   "execution_count": 88,
   "metadata": {},
   "outputs": [
    {
     "data": {
      "text/html": [
       "<div>\n",
       "<style scoped>\n",
       "    .dataframe tbody tr th:only-of-type {\n",
       "        vertical-align: middle;\n",
       "    }\n",
       "\n",
       "    .dataframe tbody tr th {\n",
       "        vertical-align: top;\n",
       "    }\n",
       "\n",
       "    .dataframe thead th {\n",
       "        text-align: right;\n",
       "    }\n",
       "</style>\n",
       "<table border=\"1\" class=\"dataframe\">\n",
       "  <thead>\n",
       "    <tr style=\"text-align: right;\">\n",
       "      <th></th>\n",
       "      <th>제품명</th>\n",
       "      <th>담당자</th>\n",
       "      <th>지역</th>\n",
       "      <th>1분기</th>\n",
       "      <th>2분기</th>\n",
       "      <th>3분기</th>\n",
       "      <th>4분기</th>\n",
       "      <th>연간판매량</th>\n",
       "    </tr>\n",
       "  </thead>\n",
       "  <tbody>\n",
       "    <tr>\n",
       "      <th>8</th>\n",
       "      <td>핸드백</td>\n",
       "      <td>Chris</td>\n",
       "      <td>종로구</td>\n",
       "      <td>365</td>\n",
       "      <td>383</td>\n",
       "      <td>308</td>\n",
       "      <td>323</td>\n",
       "      <td>1379</td>\n",
       "    </tr>\n",
       "    <tr>\n",
       "      <th>2</th>\n",
       "      <td>핸드백</td>\n",
       "      <td>Andy</td>\n",
       "      <td>동작구</td>\n",
       "      <td>385</td>\n",
       "      <td>316</td>\n",
       "      <td>355</td>\n",
       "      <td>331</td>\n",
       "      <td>1387</td>\n",
       "    </tr>\n",
       "    <tr>\n",
       "      <th>5</th>\n",
       "      <td>핸드백</td>\n",
       "      <td>Becky</td>\n",
       "      <td>강남구</td>\n",
       "      <td>350</td>\n",
       "      <td>340</td>\n",
       "      <td>377</td>\n",
       "      <td>392</td>\n",
       "      <td>1459</td>\n",
       "    </tr>\n",
       "  </tbody>\n",
       "</table>\n",
       "</div>"
      ],
      "text/plain": [
       "   제품명    담당자   지역  1분기  2분기  3분기  4분기  연간판매량\n",
       "8  핸드백  Chris  종로구  365  383  308  323   1379\n",
       "2  핸드백   Andy  동작구  385  316  355  331   1387\n",
       "5  핸드백  Becky  강남구  350  340  377  392   1459"
      ]
     },
     "execution_count": 88,
     "metadata": {},
     "output_type": "execute_result"
    }
   ],
   "source": [
    "handbag_total.sort_values(by='연간판매량', ascending=True)\n",
    "# 오름차순 정렬\n",
    "# handbag_total.sort_values(by='연간판매량', ascending=False)\n",
    "# 내림차순 정렬"
   ]
  },
  {
   "cell_type": "code",
   "execution_count": null,
   "metadata": {},
   "outputs": [],
   "source": []
  }
 ],
 "metadata": {
  "kernelspec": {
   "display_name": "Python 3",
   "language": "python",
   "name": "python3"
  },
  "language_info": {
   "codemirror_mode": {
    "name": "ipython",
    "version": 3
   },
   "file_extension": ".py",
   "mimetype": "text/x-python",
   "name": "python",
   "nbconvert_exporter": "python",
   "pygments_lexer": "ipython3",
   "version": "3.7.3"
  }
 },
 "nbformat": 4,
 "nbformat_minor": 2
}
